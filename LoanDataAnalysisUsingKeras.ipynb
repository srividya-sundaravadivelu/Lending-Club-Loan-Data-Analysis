{
  "cells": [
    {
      "cell_type": "markdown",
      "metadata": {
        "id": "3H67BM2aa9Kk"
      },
      "source": [
        "DESCRIPTION\n",
        "\n",
        "Create a model that predicts whether or not a loan will be default using the historical data.\n",
        "\n",
        " \n",
        "\n",
        "Problem Statement:  \n",
        "\n",
        "For companies like Lending Club correctly predicting whether or not a loan will be a default is very important. In this project, using the historical data from 2007 to 2015, you have to build a deep learning model to predict the chance of default for future loans. As you will see later this dataset is highly imbalanced and includes a lot of features that makes this problem more challenging.\n",
        "\n",
        "Domain: Finance\n",
        "\n",
        "Analysis to be done: Perform data preprocessing and build a deep learning prediction model. \n",
        "\n",
        "Steps to perform:\n",
        "\n",
        "Perform exploratory data analysis and feature engineering and then apply feature engineering. Follow up with a deep learning model to predict whether or not the loan will be default using the historical data.\n",
        "\n",
        " \n",
        "\n",
        "Tasks:\n",
        "\n",
        "1.     Feature Transformation\n",
        "\n",
        "Transform categorical values into numerical values (discrete)\n",
        "\n",
        "2.     Exploratory data analysis of different factors of the dataset.\n",
        "\n",
        "3.     Additional Feature Engineering\n",
        "\n",
        "You will check the correlation between features and will drop those features which have a strong correlation\n",
        "\n",
        "This will help reduce the number of features and will leave you with the most relevant features\n",
        "\n",
        "4.     Modeling\n",
        "\n",
        "After applying EDA and feature engineering, you are now ready to build the predictive models\n",
        "\n",
        "In this part, you will create a deep learning model using Keras with Tensorflow backend"
      ]
    },
    {
      "cell_type": "code",
      "execution_count": 1,
      "metadata": {
        "id": "9BY6BEgEboA5"
      },
      "outputs": [],
      "source": [
        "import tensorflow as tf\n",
        "import numpy as np\n",
        "import pandas as pd\n",
        "import matplotlib.pyplot as plt\n",
        "import seaborn as sns"
      ]
    },
    {
      "cell_type": "code",
      "execution_count": 2,
      "metadata": {
        "id": "6uyKKjXlb8bE"
      },
      "outputs": [],
      "source": [
        "df = pd.read_csv('loan_data.csv')"
      ]
    },
    {
      "cell_type": "code",
      "execution_count": 3,
      "metadata": {
        "colab": {
          "base_uri": "https://localhost:8080/",
          "height": 250
        },
        "id": "miCjnIlTcFN8",
        "outputId": "10a913b7-fef5-45d4-bfa8-9d1fc5d7063f"
      },
      "outputs": [
        {
          "output_type": "execute_result",
          "data": {
            "text/html": [
              "\n",
              "  <div id=\"df-af8f8160-bac3-457f-a56b-f96e562dea70\">\n",
              "    <div class=\"colab-df-container\">\n",
              "      <div>\n",
              "<style scoped>\n",
              "    .dataframe tbody tr th:only-of-type {\n",
              "        vertical-align: middle;\n",
              "    }\n",
              "\n",
              "    .dataframe tbody tr th {\n",
              "        vertical-align: top;\n",
              "    }\n",
              "\n",
              "    .dataframe thead th {\n",
              "        text-align: right;\n",
              "    }\n",
              "</style>\n",
              "<table border=\"1\" class=\"dataframe\">\n",
              "  <thead>\n",
              "    <tr style=\"text-align: right;\">\n",
              "      <th></th>\n",
              "      <th>credit.policy</th>\n",
              "      <th>purpose</th>\n",
              "      <th>int.rate</th>\n",
              "      <th>installment</th>\n",
              "      <th>log.annual.inc</th>\n",
              "      <th>dti</th>\n",
              "      <th>fico</th>\n",
              "      <th>days.with.cr.line</th>\n",
              "      <th>revol.bal</th>\n",
              "      <th>revol.util</th>\n",
              "      <th>inq.last.6mths</th>\n",
              "      <th>delinq.2yrs</th>\n",
              "      <th>pub.rec</th>\n",
              "      <th>not.fully.paid</th>\n",
              "    </tr>\n",
              "  </thead>\n",
              "  <tbody>\n",
              "    <tr>\n",
              "      <th>0</th>\n",
              "      <td>1</td>\n",
              "      <td>debt_consolidation</td>\n",
              "      <td>0.1189</td>\n",
              "      <td>829.10</td>\n",
              "      <td>11.350407</td>\n",
              "      <td>19.48</td>\n",
              "      <td>737</td>\n",
              "      <td>5639.958333</td>\n",
              "      <td>28854</td>\n",
              "      <td>52.1</td>\n",
              "      <td>0</td>\n",
              "      <td>0</td>\n",
              "      <td>0</td>\n",
              "      <td>0</td>\n",
              "    </tr>\n",
              "    <tr>\n",
              "      <th>1</th>\n",
              "      <td>1</td>\n",
              "      <td>credit_card</td>\n",
              "      <td>0.1071</td>\n",
              "      <td>228.22</td>\n",
              "      <td>11.082143</td>\n",
              "      <td>14.29</td>\n",
              "      <td>707</td>\n",
              "      <td>2760.000000</td>\n",
              "      <td>33623</td>\n",
              "      <td>76.7</td>\n",
              "      <td>0</td>\n",
              "      <td>0</td>\n",
              "      <td>0</td>\n",
              "      <td>0</td>\n",
              "    </tr>\n",
              "    <tr>\n",
              "      <th>2</th>\n",
              "      <td>1</td>\n",
              "      <td>debt_consolidation</td>\n",
              "      <td>0.1357</td>\n",
              "      <td>366.86</td>\n",
              "      <td>10.373491</td>\n",
              "      <td>11.63</td>\n",
              "      <td>682</td>\n",
              "      <td>4710.000000</td>\n",
              "      <td>3511</td>\n",
              "      <td>25.6</td>\n",
              "      <td>1</td>\n",
              "      <td>0</td>\n",
              "      <td>0</td>\n",
              "      <td>0</td>\n",
              "    </tr>\n",
              "    <tr>\n",
              "      <th>3</th>\n",
              "      <td>1</td>\n",
              "      <td>debt_consolidation</td>\n",
              "      <td>0.1008</td>\n",
              "      <td>162.34</td>\n",
              "      <td>11.350407</td>\n",
              "      <td>8.10</td>\n",
              "      <td>712</td>\n",
              "      <td>2699.958333</td>\n",
              "      <td>33667</td>\n",
              "      <td>73.2</td>\n",
              "      <td>1</td>\n",
              "      <td>0</td>\n",
              "      <td>0</td>\n",
              "      <td>0</td>\n",
              "    </tr>\n",
              "    <tr>\n",
              "      <th>4</th>\n",
              "      <td>1</td>\n",
              "      <td>credit_card</td>\n",
              "      <td>0.1426</td>\n",
              "      <td>102.92</td>\n",
              "      <td>11.299732</td>\n",
              "      <td>14.97</td>\n",
              "      <td>667</td>\n",
              "      <td>4066.000000</td>\n",
              "      <td>4740</td>\n",
              "      <td>39.5</td>\n",
              "      <td>0</td>\n",
              "      <td>1</td>\n",
              "      <td>0</td>\n",
              "      <td>0</td>\n",
              "    </tr>\n",
              "  </tbody>\n",
              "</table>\n",
              "</div>\n",
              "      <button class=\"colab-df-convert\" onclick=\"convertToInteractive('df-af8f8160-bac3-457f-a56b-f96e562dea70')\"\n",
              "              title=\"Convert this dataframe to an interactive table.\"\n",
              "              style=\"display:none;\">\n",
              "        \n",
              "  <svg xmlns=\"http://www.w3.org/2000/svg\" height=\"24px\"viewBox=\"0 0 24 24\"\n",
              "       width=\"24px\">\n",
              "    <path d=\"M0 0h24v24H0V0z\" fill=\"none\"/>\n",
              "    <path d=\"M18.56 5.44l.94 2.06.94-2.06 2.06-.94-2.06-.94-.94-2.06-.94 2.06-2.06.94zm-11 1L8.5 8.5l.94-2.06 2.06-.94-2.06-.94L8.5 2.5l-.94 2.06-2.06.94zm10 10l.94 2.06.94-2.06 2.06-.94-2.06-.94-.94-2.06-.94 2.06-2.06.94z\"/><path d=\"M17.41 7.96l-1.37-1.37c-.4-.4-.92-.59-1.43-.59-.52 0-1.04.2-1.43.59L10.3 9.45l-7.72 7.72c-.78.78-.78 2.05 0 2.83L4 21.41c.39.39.9.59 1.41.59.51 0 1.02-.2 1.41-.59l7.78-7.78 2.81-2.81c.8-.78.8-2.07 0-2.86zM5.41 20L4 18.59l7.72-7.72 1.47 1.35L5.41 20z\"/>\n",
              "  </svg>\n",
              "      </button>\n",
              "      \n",
              "  <style>\n",
              "    .colab-df-container {\n",
              "      display:flex;\n",
              "      flex-wrap:wrap;\n",
              "      gap: 12px;\n",
              "    }\n",
              "\n",
              "    .colab-df-convert {\n",
              "      background-color: #E8F0FE;\n",
              "      border: none;\n",
              "      border-radius: 50%;\n",
              "      cursor: pointer;\n",
              "      display: none;\n",
              "      fill: #1967D2;\n",
              "      height: 32px;\n",
              "      padding: 0 0 0 0;\n",
              "      width: 32px;\n",
              "    }\n",
              "\n",
              "    .colab-df-convert:hover {\n",
              "      background-color: #E2EBFA;\n",
              "      box-shadow: 0px 1px 2px rgba(60, 64, 67, 0.3), 0px 1px 3px 1px rgba(60, 64, 67, 0.15);\n",
              "      fill: #174EA6;\n",
              "    }\n",
              "\n",
              "    [theme=dark] .colab-df-convert {\n",
              "      background-color: #3B4455;\n",
              "      fill: #D2E3FC;\n",
              "    }\n",
              "\n",
              "    [theme=dark] .colab-df-convert:hover {\n",
              "      background-color: #434B5C;\n",
              "      box-shadow: 0px 1px 3px 1px rgba(0, 0, 0, 0.15);\n",
              "      filter: drop-shadow(0px 1px 2px rgba(0, 0, 0, 0.3));\n",
              "      fill: #FFFFFF;\n",
              "    }\n",
              "  </style>\n",
              "\n",
              "      <script>\n",
              "        const buttonEl =\n",
              "          document.querySelector('#df-af8f8160-bac3-457f-a56b-f96e562dea70 button.colab-df-convert');\n",
              "        buttonEl.style.display =\n",
              "          google.colab.kernel.accessAllowed ? 'block' : 'none';\n",
              "\n",
              "        async function convertToInteractive(key) {\n",
              "          const element = document.querySelector('#df-af8f8160-bac3-457f-a56b-f96e562dea70');\n",
              "          const dataTable =\n",
              "            await google.colab.kernel.invokeFunction('convertToInteractive',\n",
              "                                                     [key], {});\n",
              "          if (!dataTable) return;\n",
              "\n",
              "          const docLinkHtml = 'Like what you see? Visit the ' +\n",
              "            '<a target=\"_blank\" href=https://colab.research.google.com/notebooks/data_table.ipynb>data table notebook</a>'\n",
              "            + ' to learn more about interactive tables.';\n",
              "          element.innerHTML = '';\n",
              "          dataTable['output_type'] = 'display_data';\n",
              "          await google.colab.output.renderOutput(dataTable, element);\n",
              "          const docLink = document.createElement('div');\n",
              "          docLink.innerHTML = docLinkHtml;\n",
              "          element.appendChild(docLink);\n",
              "        }\n",
              "      </script>\n",
              "    </div>\n",
              "  </div>\n",
              "  "
            ],
            "text/plain": [
              "   credit.policy             purpose  ...  pub.rec  not.fully.paid\n",
              "0              1  debt_consolidation  ...        0               0\n",
              "1              1         credit_card  ...        0               0\n",
              "2              1  debt_consolidation  ...        0               0\n",
              "3              1  debt_consolidation  ...        0               0\n",
              "4              1         credit_card  ...        0               0\n",
              "\n",
              "[5 rows x 14 columns]"
            ]
          },
          "metadata": {},
          "execution_count": 3
        }
      ],
      "source": [
        "df.head()"
      ]
    },
    {
      "cell_type": "code",
      "execution_count": 4,
      "metadata": {
        "colab": {
          "base_uri": "https://localhost:8080/"
        },
        "id": "-2HULzOEcbe6",
        "outputId": "6c45f537-a600-4ba9-ee02-e3296bf31fea"
      },
      "outputs": [
        {
          "output_type": "execute_result",
          "data": {
            "text/plain": [
              "(9578, 14)"
            ]
          },
          "metadata": {},
          "execution_count": 4
        }
      ],
      "source": [
        "df.shape"
      ]
    },
    {
      "cell_type": "code",
      "execution_count": 5,
      "metadata": {
        "id": "-Nz6HppEcitb"
      },
      "outputs": [],
      "source": [
        "# The dataset has 9578 rows and 14 columns"
      ]
    },
    {
      "cell_type": "code",
      "execution_count": 6,
      "metadata": {
        "colab": {
          "base_uri": "https://localhost:8080/"
        },
        "id": "654fNew2cGV9",
        "outputId": "72beaafa-b9c6-45f7-a717-baab71203391"
      },
      "outputs": [
        {
          "output_type": "stream",
          "name": "stdout",
          "text": [
            "<class 'pandas.core.frame.DataFrame'>\n",
            "RangeIndex: 9578 entries, 0 to 9577\n",
            "Data columns (total 14 columns):\n",
            " #   Column             Non-Null Count  Dtype  \n",
            "---  ------             --------------  -----  \n",
            " 0   credit.policy      9578 non-null   int64  \n",
            " 1   purpose            9578 non-null   object \n",
            " 2   int.rate           9578 non-null   float64\n",
            " 3   installment        9578 non-null   float64\n",
            " 4   log.annual.inc     9578 non-null   float64\n",
            " 5   dti                9578 non-null   float64\n",
            " 6   fico               9578 non-null   int64  \n",
            " 7   days.with.cr.line  9578 non-null   float64\n",
            " 8   revol.bal          9578 non-null   int64  \n",
            " 9   revol.util         9578 non-null   float64\n",
            " 10  inq.last.6mths     9578 non-null   int64  \n",
            " 11  delinq.2yrs        9578 non-null   int64  \n",
            " 12  pub.rec            9578 non-null   int64  \n",
            " 13  not.fully.paid     9578 non-null   int64  \n",
            "dtypes: float64(6), int64(7), object(1)\n",
            "memory usage: 1.0+ MB\n"
          ]
        }
      ],
      "source": [
        "df.info()"
      ]
    },
    {
      "cell_type": "code",
      "execution_count": 7,
      "metadata": {
        "colab": {
          "base_uri": "https://localhost:8080/"
        },
        "id": "pAhTO7YgiRkv",
        "outputId": "13b28358-275c-4a92-f5b6-0be0c523bb96"
      },
      "outputs": [
        {
          "output_type": "stream",
          "name": "stdout",
          "text": [
            "0    8045\n",
            "1    1533\n",
            "Name: not.fully.paid, dtype: int64\n",
            "0    0.839946\n",
            "1    0.160054\n",
            "Name: not.fully.paid, dtype: float64\n"
          ]
        }
      ],
      "source": [
        "print(df[\"not.fully.paid\"].value_counts())\n",
        "print(df[\"not.fully.paid\"].value_counts(normalize='True'))"
      ]
    },
    {
      "cell_type": "code",
      "execution_count": 8,
      "metadata": {
        "id": "ab4pW7oEZnki"
      },
      "outputs": [],
      "source": [
        "# 84 percent is not default and 16 percent is default. \n",
        "# This dataset is higly imbalanced. \n",
        "# In a highly imbaanced dataset, accuracy is not a true indicator of how the model is performing. \n",
        "# Even a worst model will have accuracy of 84% because 84% is majority class. \n",
        "# If all the datapoints in minority class are mis-classified, the model will still have an accuracy of 84%.\n",
        "# This is not a true indicator. We need to check the F1 score, Precision and Recall to find how well the model is performing."
      ]
    },
    {
      "cell_type": "code",
      "execution_count": 9,
      "metadata": {
        "colab": {
          "base_uri": "https://localhost:8080/",
          "height": 296
        },
        "id": "vlgO_rE7VhJA",
        "outputId": "dcfc7e32-4a84-4970-8134-6711f1a99376"
      },
      "outputs": [
        {
          "output_type": "execute_result",
          "data": {
            "text/plain": [
              "<matplotlib.axes._subplots.AxesSubplot at 0x7fd0af064c10>"
            ]
          },
          "metadata": {},
          "execution_count": 9
        },
        {
          "output_type": "display_data",
          "data": {
            "image/png": "[encoded data removed]",
            "text/plain": [
              "<Figure size 432x288 with 1 Axes>"
            ]
          },
          "metadata": {
            "needs_background": "light"
          }
        }
      ],
      "source": [
        "sns.countplot(x='not.fully.paid',data=df)\n"
      ]
    },
    {
      "cell_type": "code",
      "execution_count": 10,
      "metadata": {
        "id": "qKQHZr0FcJ2s"
      },
      "outputs": [],
      "source": [
        "# all of the 14 columns dont have any null values\n"
      ]
    },
    {
      "cell_type": "code",
      "execution_count": 11,
      "metadata": {
        "colab": {
          "base_uri": "https://localhost:8080/",
          "height": 501
        },
        "id": "7XBTm-sWC_74",
        "outputId": "bb891ed7-d1c7-4603-d80e-19946f4fd7fe"
      },
      "outputs": [
        {
          "output_type": "execute_result",
          "data": {
            "text/html": [
              "\n",
              "  <div id=\"df-ae7e255e-4787-4a05-9806-68110e173312\">\n",
              "    <div class=\"colab-df-container\">\n",
              "      <div>\n",
              "<style scoped>\n",
              "    .dataframe tbody tr th:only-of-type {\n",
              "        vertical-align: middle;\n",
              "    }\n",
              "\n",
              "    .dataframe tbody tr th {\n",
              "        vertical-align: top;\n",
              "    }\n",
              "\n",
              "    .dataframe thead th {\n",
              "        text-align: right;\n",
              "    }\n",
              "</style>\n",
              "<table border=\"1\" class=\"dataframe\">\n",
              "  <thead>\n",
              "    <tr style=\"text-align: right;\">\n",
              "      <th></th>\n",
              "      <th>credit.policy</th>\n",
              "      <th>int.rate</th>\n",
              "      <th>installment</th>\n",
              "      <th>log.annual.inc</th>\n",
              "      <th>dti</th>\n",
              "      <th>fico</th>\n",
              "      <th>days.with.cr.line</th>\n",
              "      <th>revol.bal</th>\n",
              "      <th>revol.util</th>\n",
              "      <th>inq.last.6mths</th>\n",
              "      <th>delinq.2yrs</th>\n",
              "      <th>pub.rec</th>\n",
              "      <th>not.fully.paid</th>\n",
              "    </tr>\n",
              "  </thead>\n",
              "  <tbody>\n",
              "    <tr>\n",
              "      <th>credit.policy</th>\n",
              "      <td>1.000000</td>\n",
              "      <td>0.294089</td>\n",
              "      <td>0.058770</td>\n",
              "      <td>0.034906</td>\n",
              "      <td>0.090901</td>\n",
              "      <td>0.348319</td>\n",
              "      <td>0.099026</td>\n",
              "      <td>0.187518</td>\n",
              "      <td>0.104095</td>\n",
              "      <td>0.535511</td>\n",
              "      <td>0.076318</td>\n",
              "      <td>0.054243</td>\n",
              "      <td>0.158119</td>\n",
              "    </tr>\n",
              "    <tr>\n",
              "      <th>int.rate</th>\n",
              "      <td>0.294089</td>\n",
              "      <td>1.000000</td>\n",
              "      <td>0.276140</td>\n",
              "      <td>0.056383</td>\n",
              "      <td>0.220006</td>\n",
              "      <td>0.714821</td>\n",
              "      <td>0.124022</td>\n",
              "      <td>0.092527</td>\n",
              "      <td>0.464837</td>\n",
              "      <td>0.202780</td>\n",
              "      <td>0.156079</td>\n",
              "      <td>0.098162</td>\n",
              "      <td>0.159552</td>\n",
              "    </tr>\n",
              "    <tr>\n",
              "      <th>installment</th>\n",
              "      <td>0.058770</td>\n",
              "      <td>0.276140</td>\n",
              "      <td>1.000000</td>\n",
              "      <td>0.448102</td>\n",
              "      <td>0.050202</td>\n",
              "      <td>0.086039</td>\n",
              "      <td>0.183297</td>\n",
              "      <td>0.233625</td>\n",
              "      <td>0.081356</td>\n",
              "      <td>0.010419</td>\n",
              "      <td>0.004368</td>\n",
              "      <td>0.032760</td>\n",
              "      <td>0.049955</td>\n",
              "    </tr>\n",
              "    <tr>\n",
              "      <th>log.annual.inc</th>\n",
              "      <td>0.034906</td>\n",
              "      <td>0.056383</td>\n",
              "      <td>0.448102</td>\n",
              "      <td>1.000000</td>\n",
              "      <td>0.054065</td>\n",
              "      <td>0.114576</td>\n",
              "      <td>0.336896</td>\n",
              "      <td>0.372140</td>\n",
              "      <td>0.054881</td>\n",
              "      <td>0.029171</td>\n",
              "      <td>0.029203</td>\n",
              "      <td>0.016506</td>\n",
              "      <td>0.033439</td>\n",
              "    </tr>\n",
              "    <tr>\n",
              "      <th>dti</th>\n",
              "      <td>0.090901</td>\n",
              "      <td>0.220006</td>\n",
              "      <td>0.050202</td>\n",
              "      <td>0.054065</td>\n",
              "      <td>1.000000</td>\n",
              "      <td>0.241191</td>\n",
              "      <td>0.060101</td>\n",
              "      <td>0.188748</td>\n",
              "      <td>0.337109</td>\n",
              "      <td>0.029189</td>\n",
              "      <td>0.021792</td>\n",
              "      <td>0.006209</td>\n",
              "      <td>0.037362</td>\n",
              "    </tr>\n",
              "    <tr>\n",
              "      <th>fico</th>\n",
              "      <td>0.348319</td>\n",
              "      <td>0.714821</td>\n",
              "      <td>0.086039</td>\n",
              "      <td>0.114576</td>\n",
              "      <td>0.241191</td>\n",
              "      <td>1.000000</td>\n",
              "      <td>0.263880</td>\n",
              "      <td>0.015553</td>\n",
              "      <td>0.541289</td>\n",
              "      <td>0.185293</td>\n",
              "      <td>0.216340</td>\n",
              "      <td>0.147592</td>\n",
              "      <td>0.149666</td>\n",
              "    </tr>\n",
              "    <tr>\n",
              "      <th>days.with.cr.line</th>\n",
              "      <td>0.099026</td>\n",
              "      <td>0.124022</td>\n",
              "      <td>0.183297</td>\n",
              "      <td>0.336896</td>\n",
              "      <td>0.060101</td>\n",
              "      <td>0.263880</td>\n",
              "      <td>1.000000</td>\n",
              "      <td>0.229344</td>\n",
              "      <td>0.024239</td>\n",
              "      <td>0.041736</td>\n",
              "      <td>0.081374</td>\n",
              "      <td>0.071826</td>\n",
              "      <td>0.029237</td>\n",
              "    </tr>\n",
              "    <tr>\n",
              "      <th>revol.bal</th>\n",
              "      <td>0.187518</td>\n",
              "      <td>0.092527</td>\n",
              "      <td>0.233625</td>\n",
              "      <td>0.372140</td>\n",
              "      <td>0.188748</td>\n",
              "      <td>0.015553</td>\n",
              "      <td>0.229344</td>\n",
              "      <td>1.000000</td>\n",
              "      <td>0.203779</td>\n",
              "      <td>0.022394</td>\n",
              "      <td>0.033243</td>\n",
              "      <td>0.031010</td>\n",
              "      <td>0.053699</td>\n",
              "    </tr>\n",
              "    <tr>\n",
              "      <th>revol.util</th>\n",
              "      <td>0.104095</td>\n",
              "      <td>0.464837</td>\n",
              "      <td>0.081356</td>\n",
              "      <td>0.054881</td>\n",
              "      <td>0.337109</td>\n",
              "      <td>0.541289</td>\n",
              "      <td>0.024239</td>\n",
              "      <td>0.203779</td>\n",
              "      <td>1.000000</td>\n",
              "      <td>0.013880</td>\n",
              "      <td>0.042740</td>\n",
              "      <td>0.066717</td>\n",
              "      <td>0.082088</td>\n",
              "    </tr>\n",
              "    <tr>\n",
              "      <th>inq.last.6mths</th>\n",
              "      <td>0.535511</td>\n",
              "      <td>0.202780</td>\n",
              "      <td>0.010419</td>\n",
              "      <td>0.029171</td>\n",
              "      <td>0.029189</td>\n",
              "      <td>0.185293</td>\n",
              "      <td>0.041736</td>\n",
              "      <td>0.022394</td>\n",
              "      <td>0.013880</td>\n",
              "      <td>1.000000</td>\n",
              "      <td>0.021245</td>\n",
              "      <td>0.072673</td>\n",
              "      <td>0.149452</td>\n",
              "    </tr>\n",
              "    <tr>\n",
              "      <th>delinq.2yrs</th>\n",
              "      <td>0.076318</td>\n",
              "      <td>0.156079</td>\n",
              "      <td>0.004368</td>\n",
              "      <td>0.029203</td>\n",
              "      <td>0.021792</td>\n",
              "      <td>0.216340</td>\n",
              "      <td>0.081374</td>\n",
              "      <td>0.033243</td>\n",
              "      <td>0.042740</td>\n",
              "      <td>0.021245</td>\n",
              "      <td>1.000000</td>\n",
              "      <td>0.009184</td>\n",
              "      <td>0.008881</td>\n",
              "    </tr>\n",
              "    <tr>\n",
              "      <th>pub.rec</th>\n",
              "      <td>0.054243</td>\n",
              "      <td>0.098162</td>\n",
              "      <td>0.032760</td>\n",
              "      <td>0.016506</td>\n",
              "      <td>0.006209</td>\n",
              "      <td>0.147592</td>\n",
              "      <td>0.071826</td>\n",
              "      <td>0.031010</td>\n",
              "      <td>0.066717</td>\n",
              "      <td>0.072673</td>\n",
              "      <td>0.009184</td>\n",
              "      <td>1.000000</td>\n",
              "      <td>0.048634</td>\n",
              "    </tr>\n",
              "    <tr>\n",
              "      <th>not.fully.paid</th>\n",
              "      <td>0.158119</td>\n",
              "      <td>0.159552</td>\n",
              "      <td>0.049955</td>\n",
              "      <td>0.033439</td>\n",
              "      <td>0.037362</td>\n",
              "      <td>0.149666</td>\n",
              "      <td>0.029237</td>\n",
              "      <td>0.053699</td>\n",
              "      <td>0.082088</td>\n",
              "      <td>0.149452</td>\n",
              "      <td>0.008881</td>\n",
              "      <td>0.048634</td>\n",
              "      <td>1.000000</td>\n",
              "    </tr>\n",
              "  </tbody>\n",
              "</table>\n",
              "</div>\n",
              "      <button class=\"colab-df-convert\" onclick=\"convertToInteractive('df-ae7e255e-4787-4a05-9806-68110e173312')\"\n",
              "              title=\"Convert this dataframe to an interactive table.\"\n",
              "              style=\"display:none;\">\n",
              "        \n",
              "  <svg xmlns=\"http://www.w3.org/2000/svg\" height=\"24px\"viewBox=\"0 0 24 24\"\n",
              "       width=\"24px\">\n",
              "    <path d=\"M0 0h24v24H0V0z\" fill=\"none\"/>\n",
              "    <path d=\"M18.56 5.44l.94 2.06.94-2.06 2.06-.94-2.06-.94-.94-2.06-.94 2.06-2.06.94zm-11 1L8.5 8.5l.94-2.06 2.06-.94-2.06-.94L8.5 2.5l-.94 2.06-2.06.94zm10 10l.94 2.06.94-2.06 2.06-.94-2.06-.94-.94-2.06-.94 2.06-2.06.94z\"/><path d=\"M17.41 7.96l-1.37-1.37c-.4-.4-.92-.59-1.43-.59-.52 0-1.04.2-1.43.59L10.3 9.45l-7.72 7.72c-.78.78-.78 2.05 0 2.83L4 21.41c.39.39.9.59 1.41.59.51 0 1.02-.2 1.41-.59l7.78-7.78 2.81-2.81c.8-.78.8-2.07 0-2.86zM5.41 20L4 18.59l7.72-7.72 1.47 1.35L5.41 20z\"/>\n",
              "  </svg>\n",
              "      </button>\n",
              "      \n",
              "  <style>\n",
              "    .colab-df-container {\n",
              "      display:flex;\n",
              "      flex-wrap:wrap;\n",
              "      gap: 12px;\n",
              "    }\n",
              "\n",
              "    .colab-df-convert {\n",
              "      background-color: #E8F0FE;\n",
              "      border: none;\n",
              "      border-radius: 50%;\n",
              "      cursor: pointer;\n",
              "      display: none;\n",
              "      fill: #1967D2;\n",
              "      height: 32px;\n",
              "      padding: 0 0 0 0;\n",
              "      width: 32px;\n",
              "    }\n",
              "\n",
              "    .colab-df-convert:hover {\n",
              "      background-color: #E2EBFA;\n",
              "      box-shadow: 0px 1px 2px rgba(60, 64, 67, 0.3), 0px 1px 3px 1px rgba(60, 64, 67, 0.15);\n",
              "      fill: #174EA6;\n",
              "    }\n",
              "\n",
              "    [theme=dark] .colab-df-convert {\n",
              "      background-color: #3B4455;\n",
              "      fill: #D2E3FC;\n",
              "    }\n",
              "\n",
              "    [theme=dark] .colab-df-convert:hover {\n",
              "      background-color: #434B5C;\n",
              "      box-shadow: 0px 1px 3px 1px rgba(0, 0, 0, 0.15);\n",
              "      filter: drop-shadow(0px 1px 2px rgba(0, 0, 0, 0.3));\n",
              "      fill: #FFFFFF;\n",
              "    }\n",
              "  </style>\n",
              "\n",
              "      <script>\n",
              "        const buttonEl =\n",
              "          document.querySelector('#df-ae7e255e-4787-4a05-9806-68110e173312 button.colab-df-convert');\n",
              "        buttonEl.style.display =\n",
              "          google.colab.kernel.accessAllowed ? 'block' : 'none';\n",
              "\n",
              "        async function convertToInteractive(key) {\n",
              "          const element = document.querySelector('#df-ae7e255e-4787-4a05-9806-68110e173312');\n",
              "          const dataTable =\n",
              "            await google.colab.kernel.invokeFunction('convertToInteractive',\n",
              "                                                     [key], {});\n",
              "          if (!dataTable) return;\n",
              "\n",
              "          const docLinkHtml = 'Like what you see? Visit the ' +\n",
              "            '<a target=\"_blank\" href=https://colab.research.google.com/notebooks/data_table.ipynb>data table notebook</a>'\n",
              "            + ' to learn more about interactive tables.';\n",
              "          element.innerHTML = '';\n",
              "          dataTable['output_type'] = 'display_data';\n",
              "          await google.colab.output.renderOutput(dataTable, element);\n",
              "          const docLink = document.createElement('div');\n",
              "          docLink.innerHTML = docLinkHtml;\n",
              "          element.appendChild(docLink);\n",
              "        }\n",
              "      </script>\n",
              "    </div>\n",
              "  </div>\n",
              "  "
            ],
            "text/plain": [
              "                   credit.policy  int.rate  ...   pub.rec  not.fully.paid\n",
              "credit.policy           1.000000  0.294089  ...  0.054243        0.158119\n",
              "int.rate                0.294089  1.000000  ...  0.098162        0.159552\n",
              "installment             0.058770  0.276140  ...  0.032760        0.049955\n",
              "log.annual.inc          0.034906  0.056383  ...  0.016506        0.033439\n",
              "dti                     0.090901  0.220006  ...  0.006209        0.037362\n",
              "fico                    0.348319  0.714821  ...  0.147592        0.149666\n",
              "days.with.cr.line       0.099026  0.124022  ...  0.071826        0.029237\n",
              "revol.bal               0.187518  0.092527  ...  0.031010        0.053699\n",
              "revol.util              0.104095  0.464837  ...  0.066717        0.082088\n",
              "inq.last.6mths          0.535511  0.202780  ...  0.072673        0.149452\n",
              "delinq.2yrs             0.076318  0.156079  ...  0.009184        0.008881\n",
              "pub.rec                 0.054243  0.098162  ...  1.000000        0.048634\n",
              "not.fully.paid          0.158119  0.159552  ...  0.048634        1.000000\n",
              "\n",
              "[13 rows x 13 columns]"
            ]
          },
          "metadata": {},
          "execution_count": 11
        }
      ],
      "source": [
        "corr_matrix = df.corr().abs()\n",
        "corr_matrix"
      ]
    },
    {
      "cell_type": "code",
      "execution_count": 12,
      "metadata": {
        "colab": {
          "base_uri": "https://localhost:8080/",
          "height": 358
        },
        "id": "Z9I45JNODBMo",
        "outputId": "760c9fa2-4437-4aba-df7d-eea0c60cef09"
      },
      "outputs": [
        {
          "output_type": "execute_result",
          "data": {
            "text/plain": [
              "<matplotlib.axes._subplots.AxesSubplot at 0x7fd0aeab5190>"
            ]
          },
          "metadata": {},
          "execution_count": 12
        },
        {
          "output_type": "display_data",
          "data": {
            "image/png": "[encoded data removed]",
            "text/plain": [
              "<Figure size 432x288 with 2 Axes>"
            ]
          },
          "metadata": {
            "needs_background": "light"
          }
        }
      ],
      "source": [
        "sns.heatmap(corr_matrix)"
      ]
    },
    {
      "cell_type": "code",
      "execution_count": 13,
      "metadata": {
        "id": "zFLPudGuF6db"
      },
      "outputs": [],
      "source": [
        "# fico and int.rate seem to be highly correlated with a correlation of 0.714821. Lets drop fico column\n",
        "df = df.drop(\"fico\",axis=1)\n"
      ]
    },
    {
      "cell_type": "code",
      "execution_count": 14,
      "metadata": {
        "colab": {
          "base_uri": "https://localhost:8080/",
          "height": 467
        },
        "id": "wluzGSqZGUVn",
        "outputId": "ec9db600-08b6-41bc-9419-17cb53eca8f7"
      },
      "outputs": [
        {
          "output_type": "execute_result",
          "data": {
            "text/html": [
              "\n",
              "  <div id=\"df-dd51cc46-2ccb-4a72-abff-5a9d77b2541a\">\n",
              "    <div class=\"colab-df-container\">\n",
              "      <div>\n",
              "<style scoped>\n",
              "    .dataframe tbody tr th:only-of-type {\n",
              "        vertical-align: middle;\n",
              "    }\n",
              "\n",
              "    .dataframe tbody tr th {\n",
              "        vertical-align: top;\n",
              "    }\n",
              "\n",
              "    .dataframe thead th {\n",
              "        text-align: right;\n",
              "    }\n",
              "</style>\n",
              "<table border=\"1\" class=\"dataframe\">\n",
              "  <thead>\n",
              "    <tr style=\"text-align: right;\">\n",
              "      <th></th>\n",
              "      <th>credit.policy</th>\n",
              "      <th>purpose</th>\n",
              "      <th>int.rate</th>\n",
              "      <th>installment</th>\n",
              "      <th>log.annual.inc</th>\n",
              "      <th>dti</th>\n",
              "      <th>days.with.cr.line</th>\n",
              "      <th>revol.bal</th>\n",
              "      <th>revol.util</th>\n",
              "      <th>inq.last.6mths</th>\n",
              "      <th>delinq.2yrs</th>\n",
              "      <th>pub.rec</th>\n",
              "      <th>not.fully.paid</th>\n",
              "    </tr>\n",
              "  </thead>\n",
              "  <tbody>\n",
              "    <tr>\n",
              "      <th>0</th>\n",
              "      <td>1</td>\n",
              "      <td>debt_consolidation</td>\n",
              "      <td>0.1189</td>\n",
              "      <td>829.10</td>\n",
              "      <td>11.350407</td>\n",
              "      <td>19.48</td>\n",
              "      <td>5639.958333</td>\n",
              "      <td>28854</td>\n",
              "      <td>52.1</td>\n",
              "      <td>0</td>\n",
              "      <td>0</td>\n",
              "      <td>0</td>\n",
              "      <td>0</td>\n",
              "    </tr>\n",
              "    <tr>\n",
              "      <th>1</th>\n",
              "      <td>1</td>\n",
              "      <td>credit_card</td>\n",
              "      <td>0.1071</td>\n",
              "      <td>228.22</td>\n",
              "      <td>11.082143</td>\n",
              "      <td>14.29</td>\n",
              "      <td>2760.000000</td>\n",
              "      <td>33623</td>\n",
              "      <td>76.7</td>\n",
              "      <td>0</td>\n",
              "      <td>0</td>\n",
              "      <td>0</td>\n",
              "      <td>0</td>\n",
              "    </tr>\n",
              "    <tr>\n",
              "      <th>2</th>\n",
              "      <td>1</td>\n",
              "      <td>debt_consolidation</td>\n",
              "      <td>0.1357</td>\n",
              "      <td>366.86</td>\n",
              "      <td>10.373491</td>\n",
              "      <td>11.63</td>\n",
              "      <td>4710.000000</td>\n",
              "      <td>3511</td>\n",
              "      <td>25.6</td>\n",
              "      <td>1</td>\n",
              "      <td>0</td>\n",
              "      <td>0</td>\n",
              "      <td>0</td>\n",
              "    </tr>\n",
              "    <tr>\n",
              "      <th>3</th>\n",
              "      <td>1</td>\n",
              "      <td>debt_consolidation</td>\n",
              "      <td>0.1008</td>\n",
              "      <td>162.34</td>\n",
              "      <td>11.350407</td>\n",
              "      <td>8.10</td>\n",
              "      <td>2699.958333</td>\n",
              "      <td>33667</td>\n",
              "      <td>73.2</td>\n",
              "      <td>1</td>\n",
              "      <td>0</td>\n",
              "      <td>0</td>\n",
              "      <td>0</td>\n",
              "    </tr>\n",
              "    <tr>\n",
              "      <th>4</th>\n",
              "      <td>1</td>\n",
              "      <td>credit_card</td>\n",
              "      <td>0.1426</td>\n",
              "      <td>102.92</td>\n",
              "      <td>11.299732</td>\n",
              "      <td>14.97</td>\n",
              "      <td>4066.000000</td>\n",
              "      <td>4740</td>\n",
              "      <td>39.5</td>\n",
              "      <td>0</td>\n",
              "      <td>1</td>\n",
              "      <td>0</td>\n",
              "      <td>0</td>\n",
              "    </tr>\n",
              "    <tr>\n",
              "      <th>...</th>\n",
              "      <td>...</td>\n",
              "      <td>...</td>\n",
              "      <td>...</td>\n",
              "      <td>...</td>\n",
              "      <td>...</td>\n",
              "      <td>...</td>\n",
              "      <td>...</td>\n",
              "      <td>...</td>\n",
              "      <td>...</td>\n",
              "      <td>...</td>\n",
              "      <td>...</td>\n",
              "      <td>...</td>\n",
              "      <td>...</td>\n",
              "    </tr>\n",
              "    <tr>\n",
              "      <th>9573</th>\n",
              "      <td>0</td>\n",
              "      <td>all_other</td>\n",
              "      <td>0.1461</td>\n",
              "      <td>344.76</td>\n",
              "      <td>12.180755</td>\n",
              "      <td>10.39</td>\n",
              "      <td>10474.000000</td>\n",
              "      <td>215372</td>\n",
              "      <td>82.1</td>\n",
              "      <td>2</td>\n",
              "      <td>0</td>\n",
              "      <td>0</td>\n",
              "      <td>1</td>\n",
              "    </tr>\n",
              "    <tr>\n",
              "      <th>9574</th>\n",
              "      <td>0</td>\n",
              "      <td>all_other</td>\n",
              "      <td>0.1253</td>\n",
              "      <td>257.70</td>\n",
              "      <td>11.141862</td>\n",
              "      <td>0.21</td>\n",
              "      <td>4380.000000</td>\n",
              "      <td>184</td>\n",
              "      <td>1.1</td>\n",
              "      <td>5</td>\n",
              "      <td>0</td>\n",
              "      <td>0</td>\n",
              "      <td>1</td>\n",
              "    </tr>\n",
              "    <tr>\n",
              "      <th>9575</th>\n",
              "      <td>0</td>\n",
              "      <td>debt_consolidation</td>\n",
              "      <td>0.1071</td>\n",
              "      <td>97.81</td>\n",
              "      <td>10.596635</td>\n",
              "      <td>13.09</td>\n",
              "      <td>3450.041667</td>\n",
              "      <td>10036</td>\n",
              "      <td>82.9</td>\n",
              "      <td>8</td>\n",
              "      <td>0</td>\n",
              "      <td>0</td>\n",
              "      <td>1</td>\n",
              "    </tr>\n",
              "    <tr>\n",
              "      <th>9576</th>\n",
              "      <td>0</td>\n",
              "      <td>home_improvement</td>\n",
              "      <td>0.1600</td>\n",
              "      <td>351.58</td>\n",
              "      <td>10.819778</td>\n",
              "      <td>19.18</td>\n",
              "      <td>1800.000000</td>\n",
              "      <td>0</td>\n",
              "      <td>3.2</td>\n",
              "      <td>5</td>\n",
              "      <td>0</td>\n",
              "      <td>0</td>\n",
              "      <td>1</td>\n",
              "    </tr>\n",
              "    <tr>\n",
              "      <th>9577</th>\n",
              "      <td>0</td>\n",
              "      <td>debt_consolidation</td>\n",
              "      <td>0.1392</td>\n",
              "      <td>853.43</td>\n",
              "      <td>11.264464</td>\n",
              "      <td>16.28</td>\n",
              "      <td>4740.000000</td>\n",
              "      <td>37879</td>\n",
              "      <td>57.0</td>\n",
              "      <td>6</td>\n",
              "      <td>0</td>\n",
              "      <td>0</td>\n",
              "      <td>1</td>\n",
              "    </tr>\n",
              "  </tbody>\n",
              "</table>\n",
              "<p>9578 rows × 13 columns</p>\n",
              "</div>\n",
              "      <button class=\"colab-df-convert\" onclick=\"convertToInteractive('df-dd51cc46-2ccb-4a72-abff-5a9d77b2541a')\"\n",
              "              title=\"Convert this dataframe to an interactive table.\"\n",
              "              style=\"display:none;\">\n",
              "        \n",
              "  <svg xmlns=\"http://www.w3.org/2000/svg\" height=\"24px\"viewBox=\"0 0 24 24\"\n",
              "       width=\"24px\">\n",
              "    <path d=\"M0 0h24v24H0V0z\" fill=\"none\"/>\n",
              "    <path d=\"M18.56 5.44l.94 2.06.94-2.06 2.06-.94-2.06-.94-.94-2.06-.94 2.06-2.06.94zm-11 1L8.5 8.5l.94-2.06 2.06-.94-2.06-.94L8.5 2.5l-.94 2.06-2.06.94zm10 10l.94 2.06.94-2.06 2.06-.94-2.06-.94-.94-2.06-.94 2.06-2.06.94z\"/><path d=\"M17.41 7.96l-1.37-1.37c-.4-.4-.92-.59-1.43-.59-.52 0-1.04.2-1.43.59L10.3 9.45l-7.72 7.72c-.78.78-.78 2.05 0 2.83L4 21.41c.39.39.9.59 1.41.59.51 0 1.02-.2 1.41-.59l7.78-7.78 2.81-2.81c.8-.78.8-2.07 0-2.86zM5.41 20L4 18.59l7.72-7.72 1.47 1.35L5.41 20z\"/>\n",
              "  </svg>\n",
              "      </button>\n",
              "      \n",
              "  <style>\n",
              "    .colab-df-container {\n",
              "      display:flex;\n",
              "      flex-wrap:wrap;\n",
              "      gap: 12px;\n",
              "    }\n",
              "\n",
              "    .colab-df-convert {\n",
              "      background-color: #E8F0FE;\n",
              "      border: none;\n",
              "      border-radius: 50%;\n",
              "      cursor: pointer;\n",
              "      display: none;\n",
              "      fill: #1967D2;\n",
              "      height: 32px;\n",
              "      padding: 0 0 0 0;\n",
              "      width: 32px;\n",
              "    }\n",
              "\n",
              "    .colab-df-convert:hover {\n",
              "      background-color: #E2EBFA;\n",
              "      box-shadow: 0px 1px 2px rgba(60, 64, 67, 0.3), 0px 1px 3px 1px rgba(60, 64, 67, 0.15);\n",
              "      fill: #174EA6;\n",
              "    }\n",
              "\n",
              "    [theme=dark] .colab-df-convert {\n",
              "      background-color: #3B4455;\n",
              "      fill: #D2E3FC;\n",
              "    }\n",
              "\n",
              "    [theme=dark] .colab-df-convert:hover {\n",
              "      background-color: #434B5C;\n",
              "      box-shadow: 0px 1px 3px 1px rgba(0, 0, 0, 0.15);\n",
              "      filter: drop-shadow(0px 1px 2px rgba(0, 0, 0, 0.3));\n",
              "      fill: #FFFFFF;\n",
              "    }\n",
              "  </style>\n",
              "\n",
              "      <script>\n",
              "        const buttonEl =\n",
              "          document.querySelector('#df-dd51cc46-2ccb-4a72-abff-5a9d77b2541a button.colab-df-convert');\n",
              "        buttonEl.style.display =\n",
              "          google.colab.kernel.accessAllowed ? 'block' : 'none';\n",
              "\n",
              "        async function convertToInteractive(key) {\n",
              "          const element = document.querySelector('#df-dd51cc46-2ccb-4a72-abff-5a9d77b2541a');\n",
              "          const dataTable =\n",
              "            await google.colab.kernel.invokeFunction('convertToInteractive',\n",
              "                                                     [key], {});\n",
              "          if (!dataTable) return;\n",
              "\n",
              "          const docLinkHtml = 'Like what you see? Visit the ' +\n",
              "            '<a target=\"_blank\" href=https://colab.research.google.com/notebooks/data_table.ipynb>data table notebook</a>'\n",
              "            + ' to learn more about interactive tables.';\n",
              "          element.innerHTML = '';\n",
              "          dataTable['output_type'] = 'display_data';\n",
              "          await google.colab.output.renderOutput(dataTable, element);\n",
              "          const docLink = document.createElement('div');\n",
              "          docLink.innerHTML = docLinkHtml;\n",
              "          element.appendChild(docLink);\n",
              "        }\n",
              "      </script>\n",
              "    </div>\n",
              "  </div>\n",
              "  "
            ],
            "text/plain": [
              "      credit.policy             purpose  ...  pub.rec  not.fully.paid\n",
              "0                 1  debt_consolidation  ...        0               0\n",
              "1                 1         credit_card  ...        0               0\n",
              "2                 1  debt_consolidation  ...        0               0\n",
              "3                 1  debt_consolidation  ...        0               0\n",
              "4                 1         credit_card  ...        0               0\n",
              "...             ...                 ...  ...      ...             ...\n",
              "9573              0           all_other  ...        0               1\n",
              "9574              0           all_other  ...        0               1\n",
              "9575              0  debt_consolidation  ...        0               1\n",
              "9576              0    home_improvement  ...        0               1\n",
              "9577              0  debt_consolidation  ...        0               1\n",
              "\n",
              "[9578 rows x 13 columns]"
            ]
          },
          "metadata": {},
          "execution_count": 14
        }
      ],
      "source": [
        "df"
      ]
    },
    {
      "cell_type": "code",
      "execution_count": 15,
      "metadata": {
        "colab": {
          "base_uri": "https://localhost:8080/",
          "height": 316
        },
        "id": "lSxgvZyjW70R",
        "outputId": "d623a160-4c30-433f-c5d8-6fa7cdc8fc6f"
      },
      "outputs": [
        {
          "output_type": "execute_result",
          "data": {
            "text/plain": [
              "<matplotlib.axes._subplots.AxesSubplot at 0x7fd0af05f9d0>"
            ]
          },
          "metadata": {},
          "execution_count": 15
        },
        {
          "output_type": "display_data",
          "data": {
            "image/png": "[encoded data removed]",
            "text/plain": [
              "<Figure size 432x288 with 1 Axes>"
            ]
          },
          "metadata": {
            "needs_background": "light"
          }
        }
      ],
      "source": [
        "df.groupby('not.fully.paid')['credit.policy'].value_counts().plot(kind = 'bar')"
      ]
    },
    {
      "cell_type": "code",
      "execution_count": 16,
      "metadata": {
        "colab": {
          "base_uri": "https://localhost:8080/",
          "height": 318
        },
        "id": "uKAHnsX1XrJ8",
        "outputId": "d7908205-6ba4-4da2-a987-6b80aec0b05d"
      },
      "outputs": [
        {
          "output_type": "execute_result",
          "data": {
            "text/plain": [
              "<matplotlib.axes._subplots.AxesSubplot at 0x7fd0ac115550>"
            ]
          },
          "metadata": {},
          "execution_count": 16
        },
        {
          "output_type": "display_data",
          "data": {
            "image/png": "[encoded data removed]",
            "text/plain": [
              "<Figure size 432x288 with 1 Axes>"
            ]
          },
          "metadata": {
            "needs_background": "light"
          }
        }
      ],
      "source": [
        "df.groupby('not.fully.paid')['pub.rec'].value_counts().plot(kind = 'bar')"
      ]
    },
    {
      "cell_type": "code",
      "execution_count": 17,
      "metadata": {
        "colab": {
          "base_uri": "https://localhost:8080/",
          "height": 410
        },
        "id": "2b5XtLvWYWfS",
        "outputId": "2d22fd61-4f74-44ae-cde2-271bf1dc418c"
      },
      "outputs": [
        {
          "output_type": "execute_result",
          "data": {
            "text/plain": [
              "<matplotlib.axes._subplots.AxesSubplot at 0x7fd0ac0a27d0>"
            ]
          },
          "metadata": {},
          "execution_count": 17
        },
        {
          "output_type": "display_data",
          "data": {
            "image/png": "[encoded data removed]",
            "text/plain": [
              "<Figure size 432x288 with 1 Axes>"
            ]
          },
          "metadata": {
            "needs_background": "light"
          }
        }
      ],
      "source": [
        "df.groupby('not.fully.paid')['purpose'].value_counts().plot(kind = 'bar',)"
      ]
    },
    {
      "cell_type": "code",
      "execution_count": 17,
      "metadata": {
        "id": "bVEQUDGQZ-6g"
      },
      "outputs": [],
      "source": [
        ""
      ]
    },
    {
      "cell_type": "code",
      "execution_count": 18,
      "metadata": {
        "id": "weE_v1DvGey1"
      },
      "outputs": [],
      "source": [
        "# Convert all categorical columns to numeric.\n",
        "from sklearn.preprocessing import LabelEncoder\n",
        "df[\"purpose\"] = LabelEncoder().fit_transform(df[\"purpose\"])"
      ]
    },
    {
      "cell_type": "code",
      "execution_count": 19,
      "metadata": {
        "colab": {
          "base_uri": "https://localhost:8080/"
        },
        "id": "eOm6WN3JIztS",
        "outputId": "34ff623b-0f02-4684-954b-6e497ea9db9e"
      },
      "outputs": [
        {
          "output_type": "execute_result",
          "data": {
            "text/plain": [
              "2    3957\n",
              "0    2331\n",
              "1    1262\n",
              "4     629\n",
              "6     619\n",
              "5     437\n",
              "3     343\n",
              "Name: purpose, dtype: int64"
            ]
          },
          "metadata": {},
          "execution_count": 19
        }
      ],
      "source": [
        "df[\"purpose\"].value_counts()"
      ]
    },
    {
      "cell_type": "code",
      "execution_count": 20,
      "metadata": {
        "colab": {
          "base_uri": "https://localhost:8080/"
        },
        "id": "N0C3KFZJHcab",
        "outputId": "0ee52ab1-31ae-4dbe-c7ec-f24f61a62b80"
      },
      "outputs": [
        {
          "output_type": "execute_result",
          "data": {
            "text/plain": [
              "0       2\n",
              "1       1\n",
              "2       2\n",
              "3       2\n",
              "4       1\n",
              "       ..\n",
              "9573    0\n",
              "9574    0\n",
              "9575    2\n",
              "9576    4\n",
              "9577    2\n",
              "Name: purpose, Length: 9578, dtype: int64"
            ]
          },
          "metadata": {},
          "execution_count": 20
        }
      ],
      "source": [
        "df[\"purpose\"]"
      ]
    },
    {
      "cell_type": "code",
      "execution_count": 21,
      "metadata": {
        "colab": {
          "base_uri": "https://localhost:8080/"
        },
        "id": "9DSu21kIJA_o",
        "outputId": "65934642-583a-4ef5-b5a5-589f45d2ed7e"
      },
      "outputs": [
        {
          "output_type": "execute_result",
          "data": {
            "text/plain": [
              "0       0\n",
              "1       0\n",
              "2       0\n",
              "3       0\n",
              "4       0\n",
              "       ..\n",
              "9573    1\n",
              "9574    1\n",
              "9575    1\n",
              "9576    1\n",
              "9577    1\n",
              "Name: not.fully.paid, Length: 9578, dtype: int64"
            ]
          },
          "metadata": {},
          "execution_count": 21
        }
      ],
      "source": [
        "df[\"not.fully.paid\"]"
      ]
    },
    {
      "cell_type": "code",
      "execution_count": 22,
      "metadata": {
        "colab": {
          "base_uri": "https://localhost:8080/"
        },
        "id": "2fNKrTPiJJaB",
        "outputId": "77bca3f8-c687-4f1f-a0bb-5459906a04ae"
      },
      "outputs": [
        {
          "output_type": "stream",
          "name": "stdout",
          "text": [
            "<class 'pandas.core.frame.DataFrame'>\n",
            "RangeIndex: 9578 entries, 0 to 9577\n",
            "Data columns (total 13 columns):\n",
            " #   Column             Non-Null Count  Dtype  \n",
            "---  ------             --------------  -----  \n",
            " 0   credit.policy      9578 non-null   int64  \n",
            " 1   purpose            9578 non-null   int64  \n",
            " 2   int.rate           9578 non-null   float64\n",
            " 3   installment        9578 non-null   float64\n",
            " 4   log.annual.inc     9578 non-null   float64\n",
            " 5   dti                9578 non-null   float64\n",
            " 6   days.with.cr.line  9578 non-null   float64\n",
            " 7   revol.bal          9578 non-null   int64  \n",
            " 8   revol.util         9578 non-null   float64\n",
            " 9   inq.last.6mths     9578 non-null   int64  \n",
            " 10  delinq.2yrs        9578 non-null   int64  \n",
            " 11  pub.rec            9578 non-null   int64  \n",
            " 12  not.fully.paid     9578 non-null   int64  \n",
            "dtypes: float64(6), int64(7)\n",
            "memory usage: 972.9 KB\n"
          ]
        }
      ],
      "source": [
        "df.info()"
      ]
    },
    {
      "cell_type": "code",
      "execution_count": 23,
      "metadata": {
        "colab": {
          "base_uri": "https://localhost:8080/"
        },
        "id": "gJ4mEHi2JKf4",
        "outputId": "35938a5b-86fa-4bc3-e964-2850d0f8b349"
      },
      "outputs": [
        {
          "output_type": "stream",
          "name": "stdout",
          "text": [
            "(9578, 12)\n",
            "float64\n",
            "[[1.     2.     0.1189 ... 0.     0.     0.    ]\n",
            " [1.     1.     0.1071 ... 0.     0.     0.    ]\n",
            " [1.     2.     0.1357 ... 1.     0.     0.    ]\n",
            " ...\n",
            " [0.     2.     0.1071 ... 8.     0.     0.    ]\n",
            " [0.     4.     0.16   ... 5.     0.     0.    ]\n",
            " [0.     2.     0.1392 ... 6.     0.     0.    ]]\n"
          ]
        }
      ],
      "source": [
        "# Define X and y variables\n",
        "# First 12 variables are taken as X.\n",
        "X = df.iloc[:,0:12].values\n",
        "print(X.shape)\n",
        "print(X.dtype)\n",
        "print(X)"
      ]
    },
    {
      "cell_type": "code",
      "execution_count": 24,
      "metadata": {
        "colab": {
          "base_uri": "https://localhost:8080/"
        },
        "id": "llDSz66yJnQM",
        "outputId": "a8a1a605-9982-4f3c-e8cb-b07924685a9d"
      },
      "outputs": [
        {
          "output_type": "stream",
          "name": "stdout",
          "text": [
            "(9578,)\n",
            "int64\n",
            "[0 0 0 ... 1 1 1]\n"
          ]
        }
      ],
      "source": [
        "# The last column is taken as y varaible.\n",
        "y = df.iloc[:,12].values \n",
        "print(y.shape)\n",
        "print(y.dtype)\n",
        "print(y)\n",
        "\n"
      ]
    },
    {
      "cell_type": "code",
      "execution_count": 25,
      "metadata": {
        "colab": {
          "base_uri": "https://localhost:8080/"
        },
        "id": "t3n-MXDhPIDv",
        "outputId": "3ee1dbc4-d570-4aa6-927a-42631db417b3"
      },
      "outputs": [
        {
          "output_type": "stream",
          "name": "stdout",
          "text": [
            "[[ 0.49222226  0.03317632 -0.13931753 ... -0.71698894 -0.29973008\n",
            "  -0.23700318]\n",
            " [ 0.49222226 -0.55966463 -0.57886837 ... -0.71698894 -0.29973008\n",
            "  -0.23700318]\n",
            " [ 0.49222226  0.03317632  0.48648368 ... -0.26247044 -0.29973008\n",
            "  -0.23700318]\n",
            " ...\n",
            " [-2.03160257  0.03317632 -0.57886837 ...  2.91915909 -0.29973008\n",
            "  -0.23700318]\n",
            " [-2.03160257  1.2188582   1.39166043 ...  1.55560358 -0.29973008\n",
            "  -0.23700318]\n",
            " [-2.03160257  0.03317632  0.61685894 ...  2.01012208 -0.29973008\n",
            "  -0.23700318]]\n"
          ]
        }
      ],
      "source": [
        "# Scale the X variables so they are all in same scale. Neural networks work well when the inputs have values between 0 and 1. \n",
        "#That is because the weights are also between 0 and 1. If the inputs have a large value, the model takes a long time to converge.\n",
        "# StandardScaler subtracts all values by the mean and divide them by std deviation. So, the result has unit variance. \n",
        "# StdScaler is immune to outliers.\n",
        "from sklearn.preprocessing import StandardScaler\n",
        "stdscl = StandardScaler()\n",
        "X_scaled = stdscl.fit_transform(X)\n",
        "print(X_scaled)\n"
      ]
    },
    {
      "cell_type": "code",
      "execution_count": 26,
      "metadata": {
        "id": "zvssf8kkPQmc"
      },
      "outputs": [],
      "source": [
        "# split the data\n",
        "from sklearn.model_selection import train_test_split\n",
        "X_train, X_test, y_train, y_test = train_test_split(X_scaled, y, train_size = 0.8, random_state = 10, stratify=y)\n"
      ]
    },
    {
      "cell_type": "code",
      "execution_count": 27,
      "metadata": {
        "colab": {
          "base_uri": "https://localhost:8080/"
        },
        "id": "Vn26Vu48Pozg",
        "outputId": "4b215340-e755-4a5f-c3f2-e8479ec0e91c"
      },
      "outputs": [
        {
          "output_type": "stream",
          "name": "stdout",
          "text": [
            "(7662, 12)\n",
            "(7662,)\n",
            "(1916, 12)\n",
            "(1916,)\n"
          ]
        }
      ],
      "source": [
        "print(X_train.shape)\n",
        "print(y_train.shape)\n",
        "print(X_test.shape)\n",
        "print(y_test.shape)\n"
      ]
    },
    {
      "cell_type": "code",
      "execution_count": 28,
      "metadata": {
        "colab": {
          "base_uri": "https://localhost:8080/"
        },
        "id": "FpMQ35wgQcaQ",
        "outputId": "680880b6-df1d-45e9-cd98-2ba8d6d6ec42"
      },
      "outputs": [
        {
          "output_type": "stream",
          "name": "stdout",
          "text": [
            "Epoch 1/100\n",
            "180/180 [==============================] - 3s 8ms/step - loss: 0.5288 - accuracy: 0.7943 - val_loss: 0.4361 - val_accuracy: 0.8439\n",
            "Epoch 2/100\n",
            "180/180 [==============================] - 1s 7ms/step - loss: 0.4455 - accuracy: 0.8383 - val_loss: 0.4210 - val_accuracy: 0.8439\n",
            "Epoch 3/100\n",
            "180/180 [==============================] - 1s 6ms/step - loss: 0.4387 - accuracy: 0.8381 - val_loss: 0.4162 - val_accuracy: 0.8439\n",
            "Epoch 4/100\n",
            "180/180 [==============================] - 1s 5ms/step - loss: 0.4256 - accuracy: 0.8394 - val_loss: 0.4141 - val_accuracy: 0.8439\n",
            "Epoch 5/100\n",
            "180/180 [==============================] - 1s 7ms/step - loss: 0.4278 - accuracy: 0.8380 - val_loss: 0.4136 - val_accuracy: 0.8439\n",
            "Epoch 6/100\n",
            "180/180 [==============================] - 1s 7ms/step - loss: 0.4240 - accuracy: 0.8376 - val_loss: 0.4100 - val_accuracy: 0.8439\n",
            "Epoch 7/100\n",
            "180/180 [==============================] - 1s 8ms/step - loss: 0.4251 - accuracy: 0.8381 - val_loss: 0.4088 - val_accuracy: 0.8439\n",
            "Epoch 8/100\n",
            "180/180 [==============================] - 1s 7ms/step - loss: 0.4227 - accuracy: 0.8385 - val_loss: 0.4091 - val_accuracy: 0.8439\n",
            "Epoch 9/100\n",
            "180/180 [==============================] - 1s 6ms/step - loss: 0.4188 - accuracy: 0.8387 - val_loss: 0.4071 - val_accuracy: 0.8445\n",
            "Epoch 10/100\n",
            "180/180 [==============================] - 1s 7ms/step - loss: 0.4172 - accuracy: 0.8380 - val_loss: 0.4083 - val_accuracy: 0.8439\n",
            "Epoch 11/100\n",
            "180/180 [==============================] - 1s 7ms/step - loss: 0.4157 - accuracy: 0.8388 - val_loss: 0.4064 - val_accuracy: 0.8445\n",
            "Epoch 12/100\n",
            "180/180 [==============================] - 1s 6ms/step - loss: 0.4190 - accuracy: 0.8387 - val_loss: 0.4074 - val_accuracy: 0.8445\n",
            "Epoch 13/100\n",
            "180/180 [==============================] - 2s 8ms/step - loss: 0.4176 - accuracy: 0.8385 - val_loss: 0.4072 - val_accuracy: 0.8445\n",
            "Epoch 14/100\n",
            "180/180 [==============================] - 1s 8ms/step - loss: 0.4153 - accuracy: 0.8383 - val_loss: 0.4073 - val_accuracy: 0.8445\n",
            "Epoch 15/100\n",
            "180/180 [==============================] - 1s 8ms/step - loss: 0.4131 - accuracy: 0.8383 - val_loss: 0.4053 - val_accuracy: 0.8445\n",
            "Epoch 16/100\n",
            "180/180 [==============================] - 1s 7ms/step - loss: 0.4128 - accuracy: 0.8387 - val_loss: 0.4061 - val_accuracy: 0.8434\n",
            "Epoch 17/100\n",
            "180/180 [==============================] - 1s 6ms/step - loss: 0.4132 - accuracy: 0.8381 - val_loss: 0.4044 - val_accuracy: 0.8445\n",
            "Epoch 18/100\n",
            "180/180 [==============================] - 1s 5ms/step - loss: 0.4134 - accuracy: 0.8383 - val_loss: 0.4048 - val_accuracy: 0.8439\n",
            "Epoch 19/100\n",
            "180/180 [==============================] - 1s 7ms/step - loss: 0.4141 - accuracy: 0.8381 - val_loss: 0.4059 - val_accuracy: 0.8439\n",
            "Epoch 20/100\n",
            "180/180 [==============================] - 1s 6ms/step - loss: 0.4143 - accuracy: 0.8383 - val_loss: 0.4061 - val_accuracy: 0.8439\n",
            "Epoch 21/100\n",
            "180/180 [==============================] - 1s 6ms/step - loss: 0.4105 - accuracy: 0.8383 - val_loss: 0.4062 - val_accuracy: 0.8445\n",
            "Epoch 22/100\n",
            "180/180 [==============================] - 1s 3ms/step - loss: 0.4114 - accuracy: 0.8385 - val_loss: 0.4059 - val_accuracy: 0.8439\n",
            "Epoch 23/100\n",
            "180/180 [==============================] - 0s 3ms/step - loss: 0.4080 - accuracy: 0.8387 - val_loss: 0.4054 - val_accuracy: 0.8439\n",
            "Epoch 24/100\n",
            "180/180 [==============================] - 1s 3ms/step - loss: 0.4102 - accuracy: 0.8390 - val_loss: 0.4054 - val_accuracy: 0.8445\n",
            "Epoch 25/100\n",
            "180/180 [==============================] - 1s 3ms/step - loss: 0.4131 - accuracy: 0.8383 - val_loss: 0.4050 - val_accuracy: 0.8439\n",
            "Epoch 26/100\n",
            "180/180 [==============================] - 1s 3ms/step - loss: 0.4118 - accuracy: 0.8387 - val_loss: 0.4045 - val_accuracy: 0.8439\n",
            "Epoch 27/100\n",
            "180/180 [==============================] - 1s 3ms/step - loss: 0.4095 - accuracy: 0.8385 - val_loss: 0.4052 - val_accuracy: 0.8439\n",
            "Epoch 28/100\n",
            "180/180 [==============================] - 1s 3ms/step - loss: 0.4114 - accuracy: 0.8381 - val_loss: 0.4051 - val_accuracy: 0.8439\n",
            "Epoch 29/100\n",
            "180/180 [==============================] - 0s 3ms/step - loss: 0.4106 - accuracy: 0.8387 - val_loss: 0.4049 - val_accuracy: 0.8439\n",
            "Epoch 30/100\n",
            "180/180 [==============================] - 0s 3ms/step - loss: 0.4092 - accuracy: 0.8383 - val_loss: 0.4052 - val_accuracy: 0.8439\n",
            "Epoch 31/100\n",
            "180/180 [==============================] - 1s 3ms/step - loss: 0.4087 - accuracy: 0.8390 - val_loss: 0.4046 - val_accuracy: 0.8445\n",
            "Epoch 32/100\n",
            "180/180 [==============================] - 1s 3ms/step - loss: 0.4088 - accuracy: 0.8381 - val_loss: 0.4046 - val_accuracy: 0.8445\n",
            "Epoch 33/100\n",
            "180/180 [==============================] - 0s 3ms/step - loss: 0.4076 - accuracy: 0.8392 - val_loss: 0.4051 - val_accuracy: 0.8439\n",
            "Epoch 34/100\n",
            "180/180 [==============================] - 0s 3ms/step - loss: 0.4086 - accuracy: 0.8392 - val_loss: 0.4045 - val_accuracy: 0.8445\n",
            "Epoch 35/100\n",
            "180/180 [==============================] - 1s 3ms/step - loss: 0.4096 - accuracy: 0.8378 - val_loss: 0.4044 - val_accuracy: 0.8439\n",
            "Epoch 36/100\n",
            "180/180 [==============================] - 0s 3ms/step - loss: 0.4073 - accuracy: 0.8383 - val_loss: 0.4055 - val_accuracy: 0.8445\n",
            "Epoch 37/100\n",
            "180/180 [==============================] - 0s 3ms/step - loss: 0.4060 - accuracy: 0.8380 - val_loss: 0.4046 - val_accuracy: 0.8445\n",
            "Epoch 38/100\n",
            "180/180 [==============================] - 0s 3ms/step - loss: 0.4069 - accuracy: 0.8381 - val_loss: 0.4070 - val_accuracy: 0.8445\n",
            "Epoch 39/100\n",
            "180/180 [==============================] - 1s 3ms/step - loss: 0.4072 - accuracy: 0.8385 - val_loss: 0.4052 - val_accuracy: 0.8439\n",
            "Epoch 40/100\n",
            "180/180 [==============================] - 0s 3ms/step - loss: 0.4077 - accuracy: 0.8392 - val_loss: 0.4047 - val_accuracy: 0.8439\n",
            "Epoch 41/100\n",
            "180/180 [==============================] - 1s 3ms/step - loss: 0.4068 - accuracy: 0.8395 - val_loss: 0.4052 - val_accuracy: 0.8439\n",
            "Epoch 42/100\n",
            "180/180 [==============================] - 0s 3ms/step - loss: 0.4061 - accuracy: 0.8380 - val_loss: 0.4047 - val_accuracy: 0.8439\n",
            "Epoch 43/100\n",
            "180/180 [==============================] - 1s 3ms/step - loss: 0.4038 - accuracy: 0.8380 - val_loss: 0.4060 - val_accuracy: 0.8439\n",
            "Epoch 44/100\n",
            "180/180 [==============================] - 0s 3ms/step - loss: 0.4084 - accuracy: 0.8381 - val_loss: 0.4053 - val_accuracy: 0.8439\n",
            "Epoch 45/100\n",
            "180/180 [==============================] - 0s 3ms/step - loss: 0.4059 - accuracy: 0.8388 - val_loss: 0.4058 - val_accuracy: 0.8439\n",
            "Epoch 46/100\n",
            "180/180 [==============================] - 0s 3ms/step - loss: 0.4062 - accuracy: 0.8385 - val_loss: 0.4054 - val_accuracy: 0.8439\n",
            "Epoch 47/100\n",
            "180/180 [==============================] - 1s 3ms/step - loss: 0.4070 - accuracy: 0.8388 - val_loss: 0.4050 - val_accuracy: 0.8445\n",
            "Epoch 48/100\n",
            "180/180 [==============================] - 1s 3ms/step - loss: 0.4064 - accuracy: 0.8381 - val_loss: 0.4062 - val_accuracy: 0.8445\n",
            "Epoch 49/100\n",
            "180/180 [==============================] - 1s 3ms/step - loss: 0.4027 - accuracy: 0.8392 - val_loss: 0.4048 - val_accuracy: 0.8439\n",
            "Epoch 50/100\n",
            "180/180 [==============================] - 0s 3ms/step - loss: 0.4048 - accuracy: 0.8371 - val_loss: 0.4063 - val_accuracy: 0.8439\n",
            "Epoch 51/100\n",
            "180/180 [==============================] - 1s 3ms/step - loss: 0.4021 - accuracy: 0.8387 - val_loss: 0.4052 - val_accuracy: 0.8445\n",
            "Epoch 52/100\n",
            "180/180 [==============================] - 1s 3ms/step - loss: 0.4067 - accuracy: 0.8388 - val_loss: 0.4067 - val_accuracy: 0.8439\n",
            "Epoch 53/100\n",
            "180/180 [==============================] - 1s 3ms/step - loss: 0.4046 - accuracy: 0.8388 - val_loss: 0.4049 - val_accuracy: 0.8445\n",
            "Epoch 54/100\n",
            "180/180 [==============================] - 0s 3ms/step - loss: 0.4035 - accuracy: 0.8383 - val_loss: 0.4076 - val_accuracy: 0.8439\n",
            "Epoch 55/100\n",
            "180/180 [==============================] - 1s 3ms/step - loss: 0.4031 - accuracy: 0.8399 - val_loss: 0.4055 - val_accuracy: 0.8450\n",
            "Epoch 56/100\n",
            "180/180 [==============================] - 0s 3ms/step - loss: 0.4054 - accuracy: 0.8387 - val_loss: 0.4065 - val_accuracy: 0.8445\n",
            "Epoch 57/100\n",
            "180/180 [==============================] - 1s 3ms/step - loss: 0.4048 - accuracy: 0.8395 - val_loss: 0.4060 - val_accuracy: 0.8445\n",
            "Epoch 58/100\n",
            "180/180 [==============================] - 0s 3ms/step - loss: 0.4010 - accuracy: 0.8385 - val_loss: 0.4056 - val_accuracy: 0.8450\n",
            "Epoch 59/100\n",
            "180/180 [==============================] - 0s 3ms/step - loss: 0.4001 - accuracy: 0.8402 - val_loss: 0.4060 - val_accuracy: 0.8439\n",
            "Epoch 60/100\n",
            "180/180 [==============================] - 1s 3ms/step - loss: 0.4050 - accuracy: 0.8390 - val_loss: 0.4059 - val_accuracy: 0.8445\n",
            "Epoch 61/100\n",
            "180/180 [==============================] - 0s 2ms/step - loss: 0.4059 - accuracy: 0.8378 - val_loss: 0.4059 - val_accuracy: 0.8450\n",
            "Epoch 62/100\n",
            "180/180 [==============================] - 1s 3ms/step - loss: 0.4049 - accuracy: 0.8397 - val_loss: 0.4064 - val_accuracy: 0.8450\n",
            "Epoch 63/100\n",
            "180/180 [==============================] - 0s 3ms/step - loss: 0.4024 - accuracy: 0.8416 - val_loss: 0.4053 - val_accuracy: 0.8445\n",
            "Epoch 64/100\n",
            "180/180 [==============================] - 0s 3ms/step - loss: 0.4053 - accuracy: 0.8397 - val_loss: 0.4047 - val_accuracy: 0.8439\n",
            "Epoch 65/100\n",
            "180/180 [==============================] - 1s 3ms/step - loss: 0.4031 - accuracy: 0.8388 - val_loss: 0.4060 - val_accuracy: 0.8439\n",
            "Epoch 66/100\n",
            "180/180 [==============================] - 0s 3ms/step - loss: 0.4045 - accuracy: 0.8390 - val_loss: 0.4063 - val_accuracy: 0.8445\n",
            "Epoch 67/100\n",
            "180/180 [==============================] - 0s 3ms/step - loss: 0.4056 - accuracy: 0.8394 - val_loss: 0.4061 - val_accuracy: 0.8450\n",
            "Epoch 68/100\n",
            "180/180 [==============================] - 1s 3ms/step - loss: 0.4054 - accuracy: 0.8392 - val_loss: 0.4059 - val_accuracy: 0.8445\n",
            "Epoch 69/100\n",
            "180/180 [==============================] - 0s 3ms/step - loss: 0.4024 - accuracy: 0.8388 - val_loss: 0.4072 - val_accuracy: 0.8450\n",
            "Epoch 70/100\n",
            "180/180 [==============================] - 1s 3ms/step - loss: 0.4022 - accuracy: 0.8397 - val_loss: 0.4060 - val_accuracy: 0.8450\n",
            "Epoch 71/100\n",
            "180/180 [==============================] - 0s 3ms/step - loss: 0.4004 - accuracy: 0.8415 - val_loss: 0.4055 - val_accuracy: 0.8445\n",
            "Epoch 72/100\n",
            "180/180 [==============================] - 0s 3ms/step - loss: 0.4004 - accuracy: 0.8394 - val_loss: 0.4058 - val_accuracy: 0.8445\n",
            "Epoch 73/100\n",
            "180/180 [==============================] - 0s 3ms/step - loss: 0.4017 - accuracy: 0.8404 - val_loss: 0.4059 - val_accuracy: 0.8439\n",
            "Epoch 74/100\n",
            "180/180 [==============================] - 0s 3ms/step - loss: 0.4033 - accuracy: 0.8371 - val_loss: 0.4056 - val_accuracy: 0.8450\n",
            "Epoch 75/100\n",
            "180/180 [==============================] - 1s 3ms/step - loss: 0.4049 - accuracy: 0.8388 - val_loss: 0.4049 - val_accuracy: 0.8455\n",
            "Epoch 76/100\n",
            "180/180 [==============================] - 0s 3ms/step - loss: 0.4029 - accuracy: 0.8415 - val_loss: 0.4055 - val_accuracy: 0.8450\n",
            "Epoch 77/100\n",
            "180/180 [==============================] - 1s 3ms/step - loss: 0.4011 - accuracy: 0.8399 - val_loss: 0.4058 - val_accuracy: 0.8445\n",
            "Epoch 78/100\n",
            "180/180 [==============================] - 0s 3ms/step - loss: 0.3999 - accuracy: 0.8395 - val_loss: 0.4058 - val_accuracy: 0.8450\n",
            "Epoch 79/100\n",
            "180/180 [==============================] - 1s 3ms/step - loss: 0.4041 - accuracy: 0.8399 - val_loss: 0.4061 - val_accuracy: 0.8450\n",
            "Epoch 80/100\n",
            "180/180 [==============================] - 1s 3ms/step - loss: 0.4023 - accuracy: 0.8401 - val_loss: 0.4056 - val_accuracy: 0.8450\n",
            "Epoch 81/100\n",
            "180/180 [==============================] - 1s 3ms/step - loss: 0.4034 - accuracy: 0.8383 - val_loss: 0.4071 - val_accuracy: 0.8450\n",
            "Epoch 82/100\n",
            "180/180 [==============================] - 1s 3ms/step - loss: 0.4026 - accuracy: 0.8390 - val_loss: 0.4053 - val_accuracy: 0.8445\n",
            "Epoch 83/100\n",
            "180/180 [==============================] - 0s 3ms/step - loss: 0.3993 - accuracy: 0.8406 - val_loss: 0.4051 - val_accuracy: 0.8445\n",
            "Epoch 84/100\n",
            "180/180 [==============================] - 1s 3ms/step - loss: 0.4021 - accuracy: 0.8402 - val_loss: 0.4049 - val_accuracy: 0.8445\n",
            "Epoch 85/100\n",
            "180/180 [==============================] - 1s 3ms/step - loss: 0.4003 - accuracy: 0.8413 - val_loss: 0.4053 - val_accuracy: 0.8450\n",
            "Epoch 86/100\n",
            "180/180 [==============================] - 1s 3ms/step - loss: 0.4028 - accuracy: 0.8406 - val_loss: 0.4057 - val_accuracy: 0.8445\n",
            "Epoch 87/100\n",
            "180/180 [==============================] - 1s 3ms/step - loss: 0.4014 - accuracy: 0.8406 - val_loss: 0.4050 - val_accuracy: 0.8445\n",
            "Epoch 88/100\n",
            "180/180 [==============================] - 1s 3ms/step - loss: 0.3998 - accuracy: 0.8397 - val_loss: 0.4061 - val_accuracy: 0.8439\n",
            "Epoch 89/100\n",
            "180/180 [==============================] - 1s 3ms/step - loss: 0.3987 - accuracy: 0.8378 - val_loss: 0.4058 - val_accuracy: 0.8434\n",
            "Epoch 90/100\n",
            "180/180 [==============================] - 1s 3ms/step - loss: 0.4024 - accuracy: 0.8402 - val_loss: 0.4065 - val_accuracy: 0.8439\n",
            "Epoch 91/100\n",
            "180/180 [==============================] - 0s 3ms/step - loss: 0.4001 - accuracy: 0.8395 - val_loss: 0.4058 - val_accuracy: 0.8445\n",
            "Epoch 92/100\n",
            "180/180 [==============================] - 1s 3ms/step - loss: 0.3964 - accuracy: 0.8399 - val_loss: 0.4061 - val_accuracy: 0.8445\n",
            "Epoch 93/100\n",
            "180/180 [==============================] - 1s 3ms/step - loss: 0.4001 - accuracy: 0.8397 - val_loss: 0.4079 - val_accuracy: 0.8439\n",
            "Epoch 94/100\n",
            "180/180 [==============================] - 1s 3ms/step - loss: 0.4003 - accuracy: 0.8385 - val_loss: 0.4066 - val_accuracy: 0.8450\n",
            "Epoch 95/100\n",
            "180/180 [==============================] - 1s 3ms/step - loss: 0.3968 - accuracy: 0.8413 - val_loss: 0.4077 - val_accuracy: 0.8429\n",
            "Epoch 96/100\n",
            "180/180 [==============================] - 1s 3ms/step - loss: 0.3994 - accuracy: 0.8408 - val_loss: 0.4067 - val_accuracy: 0.8445\n",
            "Epoch 97/100\n",
            "180/180 [==============================] - 1s 3ms/step - loss: 0.3979 - accuracy: 0.8411 - val_loss: 0.4077 - val_accuracy: 0.8429\n",
            "Epoch 98/100\n",
            "180/180 [==============================] - 0s 3ms/step - loss: 0.3988 - accuracy: 0.8402 - val_loss: 0.4078 - val_accuracy: 0.8429\n",
            "Epoch 99/100\n",
            "180/180 [==============================] - 1s 3ms/step - loss: 0.4016 - accuracy: 0.8399 - val_loss: 0.4077 - val_accuracy: 0.8434\n",
            "Epoch 100/100\n",
            "180/180 [==============================] - 1s 3ms/step - loss: 0.3953 - accuracy: 0.8420 - val_loss: 0.4080 - val_accuracy: 0.8429\n"
          ]
        }
      ],
      "source": [
        "# model Architecture\n",
        "\n",
        "model = tf.keras.models.Sequential()\n",
        "model.add(tf.keras.layers.Dense(units=20, activation='relu', input_shape = (12,)))\n",
        "model.add(tf.keras.layers.Dropout(0.2))\n",
        "model.add(tf.keras.layers.Dense(units=20, activation='relu'))\n",
        "model.add(tf.keras.layers.Dropout(0.2))\n",
        "model.add(tf.keras.layers.Dense(units=10, activation='relu'))\n",
        "model.add(tf.keras.layers.Dense(units=1, activation='sigmoid'))\n",
        "model.compile(optimizer='adam',loss='binary_crossentropy',metrics=['accuracy'])\n",
        "mdl_history = model.fit(X_train, y_train, epochs=100, shuffle = True, validation_split = .25)\n"
      ]
    },
    {
      "cell_type": "code",
      "execution_count": 29,
      "metadata": {
        "id": "JtEfwr9tMJka"
      },
      "outputs": [],
      "source": [
        "history = mdl_history.history"
      ]
    },
    {
      "cell_type": "code",
      "execution_count": 30,
      "metadata": {
        "id": "adDIv6RwTnql"
      },
      "outputs": [],
      "source": [
        "# Plot the train and validation accuracy.\n",
        "# Also plot the train and validation error.\n",
        "def plot_history(history):\n",
        "  fig, axs = plt.subplots(2)\n",
        "\n",
        "  axs[0].plot(history['accuracy'], label=\"train accuracy\")\n",
        "  axs[0].plot(history['val_accuracy'], label = \"test accuracy\")\n",
        "  axs[0].set_ylabel('Accuracy')\n",
        "  axs[0].legend(loc='lower right')\n",
        "\n",
        "  axs[1].plot(history['loss'], label = \"train error\")\n",
        "  axs[1].plot(history['val_loss'], label = \"test error\")\n",
        "  axs[1].set_ylabel('Epoch')\n",
        "  axs[1].set_xlabel('Error')\n",
        "  axs[1].legend(loc='lower right')\n",
        "  plt.show()\n",
        "  \n"
      ]
    },
    {
      "cell_type": "code",
      "execution_count": 31,
      "metadata": {
        "colab": {
          "base_uri": "https://localhost:8080/",
          "height": 279
        },
        "id": "_Yher9ZiGLNy",
        "outputId": "a4a4c6d3-4284-4fe9-c1a8-79314138bf76"
      },
      "outputs": [
        {
          "output_type": "display_data",
          "data": {
            "image/png": "[encoded data removed]",
            "text/plain": [
              "<Figure size 432x288 with 2 Axes>"
            ]
          },
          "metadata": {
            "needs_background": "light"
          }
        }
      ],
      "source": [
        "plot_history(history)"
      ]
    },
    {
      "cell_type": "code",
      "execution_count": 32,
      "metadata": {
        "id": "2-QhFgIveZa6"
      },
      "outputs": [],
      "source": [
        "y_pred = model.predict(X_test)"
      ]
    },
    {
      "cell_type": "code",
      "execution_count": 33,
      "metadata": {
        "colab": {
          "base_uri": "https://localhost:8080/"
        },
        "id": "Z4wo7GSaU6qS",
        "outputId": "f6c23157-df6c-45fa-d97a-7eb5afd27103"
      },
      "outputs": [
        {
          "output_type": "execute_result",
          "data": {
            "text/plain": [
              "array([[0.],\n",
              "       [0.],\n",
              "       [0.],\n",
              "       ...,\n",
              "       [0.],\n",
              "       [0.],\n",
              "       [0.]], dtype=float32)"
            ]
          },
          "metadata": {},
          "execution_count": 33
        }
      ],
      "source": [
        "y_pred = np.round(y_pred)\n",
        "y_pred\n"
      ]
    },
    {
      "cell_type": "code",
      "execution_count": 34,
      "metadata": {
        "colab": {
          "base_uri": "https://localhost:8080/"
        },
        "id": "9-9J-WRzVDg3",
        "outputId": "a69b6edc-f3f0-4c68-fca9-85e2f6a068a4"
      },
      "outputs": [
        {
          "output_type": "execute_result",
          "data": {
            "text/plain": [
              "array([0, 1, 0, ..., 0, 0, 0])"
            ]
          },
          "metadata": {},
          "execution_count": 34
        }
      ],
      "source": [
        "# print y_test - the actual values\n",
        "y_test\n"
      ]
    },
    {
      "cell_type": "code",
      "execution_count": 35,
      "metadata": {
        "colab": {
          "base_uri": "https://localhost:8080/"
        },
        "id": "Aje1wb9gVW2j",
        "outputId": "ae4d9d14-6960-4e55-ba6e-852bea50cda9"
      },
      "outputs": [
        {
          "output_type": "stream",
          "name": "stdout",
          "text": [
            "[[1601    8]\n",
            " [ 305    2]]\n",
            "              precision    recall  f1-score   support\n",
            "\n",
            "           0       0.84      1.00      0.91      1609\n",
            "           1       0.20      0.01      0.01       307\n",
            "\n",
            "    accuracy                           0.84      1916\n",
            "   macro avg       0.52      0.50      0.46      1916\n",
            "weighted avg       0.74      0.84      0.77      1916\n",
            "\n"
          ]
        }
      ],
      "source": [
        "\n",
        "from sklearn.metrics import classification_report, confusion_matrix, accuracy_score\n",
        "print(confusion_matrix(y_test,y_pred))\n",
        "print(classification_report(y_test,y_pred))\n"
      ]
    },
    {
      "cell_type": "markdown",
      "metadata": {
        "id": "O1Ocql4GbYj0"
      },
      "source": [
        "Above, though accuracy is 84 percent, the recall and f1 score for minority class is very low, which is very bad. The model could only predict 1 datapoint correctly in the minority class. \n",
        "This is because of highly imbalanced data. We will try to fix this problem.\n",
        "\n",
        "We will use SMOTE (Synthetic Minority Oversampling Technique) to fix this problem of imbalanced data."
      ]
    },
    {
      "cell_type": "code",
      "execution_count": 36,
      "metadata": {
        "colab": {
          "base_uri": "https://localhost:8080/"
        },
        "id": "0lLu0U7RQGf4",
        "outputId": "d1fe212a-45d4-4ed8-a579-66feb4c372f7"
      },
      "outputs": [
        {
          "output_type": "stream",
          "name": "stdout",
          "text": [
            "y train majority and minority classes (array([0, 1]), array([6436, 1226]))\n",
            "X_train (7662, 12)\n",
            "y_train (7662,)\n",
            "X_test (1916, 12)\n",
            "y_test (1916,)\n",
            "[ 0.49222226 -1.15250557 -0.75021871 -0.60262299 -0.7170735   0.33315674\n",
            "  1.7307251   0.02936018  0.31712664 -0.71698894 -0.29973008 -0.23700318]\n",
            "[ 0.49222226 -0.55966463  0.33375839  0.18777405 -0.46633256  0.99995801\n",
            " -0.43287762  0.41342832  0.45844308 -0.71698894 -0.29973008 -0.23700318]\n"
          ]
        }
      ],
      "source": [
        "print(\"y train majority and minority classes\", np.unique(y_train, return_counts=True))\n",
        "\n",
        "print(\"X_train\",X_train.shape)\n",
        "\n",
        "print(\"y_train\",y_train.shape)\n",
        "print(\"X_test\",X_test.shape)\n",
        "print(\"y_test\",y_test.shape)\n",
        "print(X_train[0])\n",
        "\n",
        "print(X_test[0])"
      ]
    },
    {
      "cell_type": "code",
      "execution_count": 36,
      "metadata": {
        "id": "RatR9GsMhhFD"
      },
      "outputs": [],
      "source": [
        ""
      ]
    },
    {
      "cell_type": "code",
      "execution_count": 37,
      "metadata": {
        "colab": {
          "base_uri": "https://localhost:8080/"
        },
        "id": "gHKtVzHQxGiZ",
        "outputId": "6226f92b-566f-4229-9285-49e1c64844d7"
      },
      "outputs": [
        {
          "output_type": "stream",
          "name": "stdout",
          "text": [
            "X_train (7562, 12)\n",
            "y_train (7562,)\n",
            "X_valid (100, 12)\n",
            "y_valid (100,)\n",
            "y_sm (array([0, 1]), array([6355, 6355]))\n",
            "y_valid_sm (array([0, 1]), array([81, 81]))\n"
          ]
        }
      ],
      "source": [
        "# Use SMOTE to fix the problem of imbalanced data.\n",
        "# SMOTE uses k-nearest neighbours to generate more samples (over sampling) for the minority class. \n",
        "\n",
        "# Split the values into training and validation subsets\n",
        "X_valid, X_train = X_train[:100], X_train[100:] \n",
        "y_valid, y_train = y_train[:100], y_train[100:]\n",
        "\n",
        "print(\"X_train\",X_train.shape)\n",
        "print(\"y_train\",y_train.shape)\n",
        "print(\"X_valid\",X_valid.shape)\n",
        "print(\"y_valid\",y_valid.shape)\n",
        "\n",
        "from imblearn.over_sampling import SMOTE \n",
        "sm = SMOTE(sampling_strategy=\"minority\")\n",
        "X_sm, y_sm = sm.fit_resample(X_train,y_train)\n",
        "print(\"y_sm\",np.unique(y_sm,return_counts=True))\n",
        "\n",
        "\n",
        "X_valid_sm, y_valid_sm = sm.fit_resample(X_valid,y_valid)\n",
        "print(\"y_valid_sm\",np.unique(y_valid_sm,return_counts=True))\n"
      ]
    },
    {
      "cell_type": "code",
      "execution_count": 38,
      "metadata": {
        "id": "j-bvwbkEjNoB"
      },
      "outputs": [],
      "source": [
        "# In the above cell, notice that after oversampling, both classes(0 and1) are balanced for y_sm and y_valid_sm. \n",
        "# Now the dataset is balanced. We can train our model on this dataset."
      ]
    },
    {
      "cell_type": "code",
      "execution_count": 40,
      "metadata": {
        "colab": {
          "base_uri": "https://localhost:8080/"
        },
        "id": "gNUxiG-pjWSG",
        "outputId": "eb62c06e-a225-40ad-8eff-1ede175bedbb"
      },
      "outputs": [
        {
          "output_type": "stream",
          "name": "stdout",
          "text": [
            "Epoch 1/100\n",
            "398/398 [==============================] - 4s 6ms/step - loss: 0.6940 - accuracy: 0.5353 - val_loss: 0.7028 - val_accuracy: 0.4506\n",
            "Epoch 2/100\n",
            "398/398 [==============================] - 2s 5ms/step - loss: 0.6823 - accuracy: 0.5588 - val_loss: 0.6997 - val_accuracy: 0.4753\n",
            "Epoch 3/100\n",
            "398/398 [==============================] - 2s 5ms/step - loss: 0.6754 - accuracy: 0.5682 - val_loss: 0.7014 - val_accuracy: 0.5000\n",
            "Epoch 4/100\n",
            "398/398 [==============================] - 2s 4ms/step - loss: 0.6701 - accuracy: 0.5725 - val_loss: 0.6969 - val_accuracy: 0.4938\n",
            "Epoch 5/100\n",
            "398/398 [==============================] - 1s 3ms/step - loss: 0.6677 - accuracy: 0.5748 - val_loss: 0.6966 - val_accuracy: 0.5000\n",
            "Epoch 6/100\n",
            "398/398 [==============================] - 1s 4ms/step - loss: 0.6617 - accuracy: 0.5888 - val_loss: 0.6976 - val_accuracy: 0.4815\n",
            "Epoch 7/100\n",
            "398/398 [==============================] - 2s 5ms/step - loss: 0.6613 - accuracy: 0.5881 - val_loss: 0.6957 - val_accuracy: 0.5123\n",
            "Epoch 8/100\n",
            "398/398 [==============================] - 2s 4ms/step - loss: 0.6630 - accuracy: 0.5832 - val_loss: 0.6972 - val_accuracy: 0.5000\n",
            "Epoch 9/100\n",
            "398/398 [==============================] - 1s 2ms/step - loss: 0.6605 - accuracy: 0.5875 - val_loss: 0.6943 - val_accuracy: 0.5000\n",
            "Epoch 10/100\n",
            "398/398 [==============================] - 1s 2ms/step - loss: 0.6584 - accuracy: 0.5891 - val_loss: 0.6970 - val_accuracy: 0.5000\n",
            "Epoch 11/100\n",
            "398/398 [==============================] - 1s 2ms/step - loss: 0.6597 - accuracy: 0.5893 - val_loss: 0.6943 - val_accuracy: 0.5247\n",
            "Epoch 12/100\n",
            "398/398 [==============================] - 1s 2ms/step - loss: 0.6596 - accuracy: 0.5898 - val_loss: 0.6922 - val_accuracy: 0.5370\n",
            "Epoch 13/100\n",
            "398/398 [==============================] - 1s 2ms/step - loss: 0.6577 - accuracy: 0.5955 - val_loss: 0.6913 - val_accuracy: 0.5370\n",
            "Epoch 14/100\n",
            "398/398 [==============================] - 1s 2ms/step - loss: 0.6579 - accuracy: 0.6003 - val_loss: 0.6939 - val_accuracy: 0.5432\n",
            "Epoch 15/100\n",
            "398/398 [==============================] - 1s 2ms/step - loss: 0.6562 - accuracy: 0.5946 - val_loss: 0.6906 - val_accuracy: 0.5370\n",
            "Epoch 16/100\n",
            "398/398 [==============================] - 1s 2ms/step - loss: 0.6569 - accuracy: 0.6020 - val_loss: 0.6886 - val_accuracy: 0.5309\n",
            "Epoch 17/100\n",
            "398/398 [==============================] - 1s 2ms/step - loss: 0.6573 - accuracy: 0.5994 - val_loss: 0.6905 - val_accuracy: 0.5185\n",
            "Epoch 18/100\n",
            "398/398 [==============================] - 1s 2ms/step - loss: 0.6551 - accuracy: 0.6022 - val_loss: 0.6932 - val_accuracy: 0.5062\n",
            "Epoch 19/100\n",
            "398/398 [==============================] - 1s 2ms/step - loss: 0.6563 - accuracy: 0.5986 - val_loss: 0.6921 - val_accuracy: 0.5185\n",
            "Epoch 20/100\n",
            "398/398 [==============================] - 1s 2ms/step - loss: 0.6544 - accuracy: 0.6007 - val_loss: 0.6904 - val_accuracy: 0.5185\n",
            "Epoch 21/100\n",
            "398/398 [==============================] - 1s 2ms/step - loss: 0.6533 - accuracy: 0.6009 - val_loss: 0.6933 - val_accuracy: 0.5309\n",
            "Epoch 22/100\n",
            "398/398 [==============================] - 1s 2ms/step - loss: 0.6566 - accuracy: 0.5982 - val_loss: 0.6902 - val_accuracy: 0.5247\n",
            "Epoch 23/100\n",
            "398/398 [==============================] - 1s 2ms/step - loss: 0.6556 - accuracy: 0.6004 - val_loss: 0.6934 - val_accuracy: 0.5123\n",
            "Epoch 24/100\n",
            "398/398 [==============================] - 1s 2ms/step - loss: 0.6535 - accuracy: 0.6041 - val_loss: 0.6938 - val_accuracy: 0.5247\n",
            "Epoch 25/100\n",
            "398/398 [==============================] - 1s 2ms/step - loss: 0.6545 - accuracy: 0.5971 - val_loss: 0.6939 - val_accuracy: 0.5247\n",
            "Epoch 26/100\n",
            "398/398 [==============================] - 1s 2ms/step - loss: 0.6537 - accuracy: 0.5992 - val_loss: 0.6912 - val_accuracy: 0.5309\n",
            "Epoch 27/100\n",
            "398/398 [==============================] - 1s 2ms/step - loss: 0.6554 - accuracy: 0.6016 - val_loss: 0.6921 - val_accuracy: 0.5494\n",
            "Epoch 28/100\n",
            "398/398 [==============================] - 1s 2ms/step - loss: 0.6544 - accuracy: 0.6017 - val_loss: 0.6917 - val_accuracy: 0.5247\n",
            "Epoch 29/100\n",
            "398/398 [==============================] - 1s 2ms/step - loss: 0.6516 - accuracy: 0.6123 - val_loss: 0.6948 - val_accuracy: 0.5123\n",
            "Epoch 30/100\n",
            "398/398 [==============================] - 1s 2ms/step - loss: 0.6518 - accuracy: 0.6116 - val_loss: 0.6935 - val_accuracy: 0.5247\n",
            "Epoch 31/100\n",
            "398/398 [==============================] - 1s 2ms/step - loss: 0.6513 - accuracy: 0.6077 - val_loss: 0.6912 - val_accuracy: 0.5309\n",
            "Epoch 32/100\n",
            "398/398 [==============================] - 1s 2ms/step - loss: 0.6517 - accuracy: 0.6104 - val_loss: 0.6915 - val_accuracy: 0.5185\n",
            "Epoch 33/100\n",
            "398/398 [==============================] - 1s 2ms/step - loss: 0.6497 - accuracy: 0.6164 - val_loss: 0.6913 - val_accuracy: 0.5123\n",
            "Epoch 34/100\n",
            "398/398 [==============================] - 1s 2ms/step - loss: 0.6563 - accuracy: 0.6172 - val_loss: 0.6890 - val_accuracy: 0.5123\n",
            "Epoch 35/100\n",
            "398/398 [==============================] - 1s 2ms/step - loss: 0.6546 - accuracy: 0.6146 - val_loss: 0.6898 - val_accuracy: 0.5494\n",
            "Epoch 36/100\n",
            "398/398 [==============================] - 1s 2ms/step - loss: 0.6528 - accuracy: 0.6145 - val_loss: 0.6898 - val_accuracy: 0.5309\n",
            "Epoch 37/100\n",
            "398/398 [==============================] - 1s 2ms/step - loss: 0.6508 - accuracy: 0.6162 - val_loss: 0.6909 - val_accuracy: 0.5185\n",
            "Epoch 38/100\n",
            "398/398 [==============================] - 1s 2ms/step - loss: 0.6519 - accuracy: 0.6146 - val_loss: 0.6904 - val_accuracy: 0.5247\n",
            "Epoch 39/100\n",
            "398/398 [==============================] - 1s 2ms/step - loss: 0.6566 - accuracy: 0.6131 - val_loss: 0.6919 - val_accuracy: 0.5185\n",
            "Epoch 40/100\n",
            "398/398 [==============================] - 1s 2ms/step - loss: 0.6516 - accuracy: 0.6181 - val_loss: 0.6900 - val_accuracy: 0.5185\n",
            "Epoch 41/100\n",
            "398/398 [==============================] - 1s 2ms/step - loss: 0.6533 - accuracy: 0.6200 - val_loss: 0.6876 - val_accuracy: 0.5494\n",
            "Epoch 42/100\n",
            "398/398 [==============================] - 1s 2ms/step - loss: 0.6526 - accuracy: 0.6199 - val_loss: 0.6888 - val_accuracy: 0.5309\n",
            "Epoch 43/100\n",
            "398/398 [==============================] - 1s 2ms/step - loss: 0.6552 - accuracy: 0.6173 - val_loss: 0.6887 - val_accuracy: 0.5309\n",
            "Epoch 44/100\n",
            "398/398 [==============================] - 1s 2ms/step - loss: 0.6537 - accuracy: 0.6164 - val_loss: 0.6890 - val_accuracy: 0.5247\n",
            "Epoch 45/100\n",
            "398/398 [==============================] - 1s 2ms/step - loss: 0.6534 - accuracy: 0.6176 - val_loss: 0.6884 - val_accuracy: 0.5309\n",
            "Epoch 46/100\n",
            "398/398 [==============================] - 1s 2ms/step - loss: 0.6513 - accuracy: 0.6189 - val_loss: 0.6921 - val_accuracy: 0.5000\n",
            "Epoch 47/100\n",
            "398/398 [==============================] - 1s 2ms/step - loss: 0.6518 - accuracy: 0.6182 - val_loss: 0.6896 - val_accuracy: 0.5123\n",
            "Epoch 48/100\n",
            "398/398 [==============================] - 1s 2ms/step - loss: 0.6525 - accuracy: 0.6234 - val_loss: 0.6881 - val_accuracy: 0.5370\n",
            "Epoch 49/100\n",
            "398/398 [==============================] - 1s 2ms/step - loss: 0.6523 - accuracy: 0.6149 - val_loss: 0.6857 - val_accuracy: 0.5617\n",
            "Epoch 50/100\n",
            "398/398 [==============================] - 1s 2ms/step - loss: 0.6548 - accuracy: 0.6149 - val_loss: 0.6856 - val_accuracy: 0.5309\n",
            "Epoch 51/100\n",
            "398/398 [==============================] - 1s 2ms/step - loss: 0.6560 - accuracy: 0.6130 - val_loss: 0.6842 - val_accuracy: 0.5309\n",
            "Epoch 52/100\n",
            "398/398 [==============================] - 1s 2ms/step - loss: 0.6507 - accuracy: 0.6273 - val_loss: 0.6859 - val_accuracy: 0.5370\n",
            "Epoch 53/100\n",
            "398/398 [==============================] - 1s 2ms/step - loss: 0.6514 - accuracy: 0.6094 - val_loss: 0.6856 - val_accuracy: 0.5370\n",
            "Epoch 54/100\n",
            "398/398 [==============================] - 1s 2ms/step - loss: 0.6518 - accuracy: 0.6164 - val_loss: 0.6828 - val_accuracy: 0.5617\n",
            "Epoch 55/100\n",
            "398/398 [==============================] - 1s 2ms/step - loss: 0.6536 - accuracy: 0.6207 - val_loss: 0.6814 - val_accuracy: 0.5494\n",
            "Epoch 56/100\n",
            "398/398 [==============================] - 1s 2ms/step - loss: 0.6492 - accuracy: 0.6243 - val_loss: 0.6842 - val_accuracy: 0.5617\n",
            "Epoch 57/100\n",
            "398/398 [==============================] - 1s 2ms/step - loss: 0.6500 - accuracy: 0.6228 - val_loss: 0.6830 - val_accuracy: 0.5494\n",
            "Epoch 58/100\n",
            "398/398 [==============================] - 1s 2ms/step - loss: 0.6507 - accuracy: 0.6223 - val_loss: 0.6788 - val_accuracy: 0.5679\n",
            "Epoch 59/100\n",
            "398/398 [==============================] - 1s 2ms/step - loss: 0.6482 - accuracy: 0.6200 - val_loss: 0.6818 - val_accuracy: 0.5679\n",
            "Epoch 60/100\n",
            "398/398 [==============================] - 1s 2ms/step - loss: 0.6504 - accuracy: 0.6176 - val_loss: 0.6848 - val_accuracy: 0.5802\n",
            "Epoch 61/100\n",
            "398/398 [==============================] - 1s 2ms/step - loss: 0.6498 - accuracy: 0.6196 - val_loss: 0.6834 - val_accuracy: 0.5864\n",
            "Epoch 62/100\n",
            "398/398 [==============================] - 1s 2ms/step - loss: 0.6486 - accuracy: 0.6231 - val_loss: 0.6813 - val_accuracy: 0.5617\n",
            "Epoch 63/100\n",
            "398/398 [==============================] - 1s 2ms/step - loss: 0.6496 - accuracy: 0.6193 - val_loss: 0.6837 - val_accuracy: 0.5617\n",
            "Epoch 64/100\n",
            "398/398 [==============================] - 1s 2ms/step - loss: 0.6494 - accuracy: 0.6184 - val_loss: 0.6785 - val_accuracy: 0.5679\n",
            "Epoch 65/100\n",
            "398/398 [==============================] - 1s 2ms/step - loss: 0.6499 - accuracy: 0.6178 - val_loss: 0.6819 - val_accuracy: 0.5432\n",
            "Epoch 66/100\n",
            "398/398 [==============================] - 1s 2ms/step - loss: 0.6499 - accuracy: 0.6187 - val_loss: 0.6804 - val_accuracy: 0.5741\n",
            "Epoch 67/100\n",
            "398/398 [==============================] - 1s 2ms/step - loss: 0.6525 - accuracy: 0.6192 - val_loss: 0.6787 - val_accuracy: 0.5741\n",
            "Epoch 68/100\n",
            "398/398 [==============================] - 1s 2ms/step - loss: 0.6495 - accuracy: 0.6264 - val_loss: 0.6780 - val_accuracy: 0.5802\n",
            "Epoch 69/100\n",
            "398/398 [==============================] - 1s 2ms/step - loss: 0.6495 - accuracy: 0.6235 - val_loss: 0.6810 - val_accuracy: 0.5494\n",
            "Epoch 70/100\n",
            "398/398 [==============================] - 1s 2ms/step - loss: 0.6497 - accuracy: 0.6197 - val_loss: 0.6847 - val_accuracy: 0.5556\n",
            "Epoch 71/100\n",
            "398/398 [==============================] - 1s 2ms/step - loss: 0.6496 - accuracy: 0.6206 - val_loss: 0.6843 - val_accuracy: 0.5617\n",
            "Epoch 72/100\n",
            "398/398 [==============================] - 1s 2ms/step - loss: 0.6503 - accuracy: 0.6208 - val_loss: 0.6809 - val_accuracy: 0.5617\n",
            "Epoch 73/100\n",
            "398/398 [==============================] - 1s 2ms/step - loss: 0.6480 - accuracy: 0.6264 - val_loss: 0.6860 - val_accuracy: 0.5741\n",
            "Epoch 74/100\n",
            "398/398 [==============================] - 1s 4ms/step - loss: 0.6508 - accuracy: 0.6220 - val_loss: 0.6861 - val_accuracy: 0.5556\n",
            "Epoch 75/100\n",
            "398/398 [==============================] - 2s 4ms/step - loss: 0.6486 - accuracy: 0.6253 - val_loss: 0.6818 - val_accuracy: 0.5741\n",
            "Epoch 76/100\n",
            "398/398 [==============================] - 2s 5ms/step - loss: 0.6516 - accuracy: 0.6258 - val_loss: 0.6865 - val_accuracy: 0.5556\n",
            "Epoch 77/100\n",
            "398/398 [==============================] - 2s 5ms/step - loss: 0.6489 - accuracy: 0.6212 - val_loss: 0.6854 - val_accuracy: 0.5556\n",
            "Epoch 78/100\n",
            "398/398 [==============================] - 2s 4ms/step - loss: 0.6500 - accuracy: 0.6219 - val_loss: 0.6904 - val_accuracy: 0.5370\n",
            "Epoch 79/100\n",
            "398/398 [==============================] - 2s 4ms/step - loss: 0.6471 - accuracy: 0.6260 - val_loss: 0.6841 - val_accuracy: 0.5617\n",
            "Epoch 80/100\n",
            "398/398 [==============================] - 1s 2ms/step - loss: 0.6490 - accuracy: 0.6260 - val_loss: 0.6851 - val_accuracy: 0.5679\n",
            "Epoch 81/100\n",
            "398/398 [==============================] - 1s 2ms/step - loss: 0.6486 - accuracy: 0.6272 - val_loss: 0.6819 - val_accuracy: 0.5617\n",
            "Epoch 82/100\n",
            "398/398 [==============================] - 1s 2ms/step - loss: 0.6500 - accuracy: 0.6201 - val_loss: 0.6795 - val_accuracy: 0.5679\n",
            "Epoch 83/100\n",
            "398/398 [==============================] - 1s 2ms/step - loss: 0.6520 - accuracy: 0.6191 - val_loss: 0.6807 - val_accuracy: 0.5432\n",
            "Epoch 84/100\n",
            "398/398 [==============================] - 1s 3ms/step - loss: 0.6484 - accuracy: 0.6251 - val_loss: 0.6784 - val_accuracy: 0.5617\n",
            "Epoch 85/100\n",
            "398/398 [==============================] - 1s 2ms/step - loss: 0.6510 - accuracy: 0.6216 - val_loss: 0.6779 - val_accuracy: 0.5617\n",
            "Epoch 86/100\n",
            "398/398 [==============================] - 1s 2ms/step - loss: 0.6515 - accuracy: 0.6228 - val_loss: 0.6810 - val_accuracy: 0.5556\n",
            "Epoch 87/100\n",
            "398/398 [==============================] - 1s 2ms/step - loss: 0.6489 - accuracy: 0.6233 - val_loss: 0.6783 - val_accuracy: 0.5679\n",
            "Epoch 88/100\n",
            "398/398 [==============================] - 1s 2ms/step - loss: 0.6486 - accuracy: 0.6259 - val_loss: 0.6752 - val_accuracy: 0.5556\n",
            "Epoch 89/100\n",
            "398/398 [==============================] - 1s 3ms/step - loss: 0.6499 - accuracy: 0.6228 - val_loss: 0.6826 - val_accuracy: 0.5556\n",
            "Epoch 90/100\n",
            "398/398 [==============================] - 1s 2ms/step - loss: 0.6475 - accuracy: 0.6237 - val_loss: 0.6837 - val_accuracy: 0.5556\n",
            "Epoch 91/100\n",
            "398/398 [==============================] - 1s 2ms/step - loss: 0.6469 - accuracy: 0.6248 - val_loss: 0.6817 - val_accuracy: 0.5494\n",
            "Epoch 92/100\n",
            "398/398 [==============================] - 1s 2ms/step - loss: 0.6492 - accuracy: 0.6211 - val_loss: 0.6814 - val_accuracy: 0.5494\n",
            "Epoch 93/100\n",
            "398/398 [==============================] - 1s 2ms/step - loss: 0.6495 - accuracy: 0.6265 - val_loss: 0.6787 - val_accuracy: 0.5556\n",
            "Epoch 94/100\n",
            "398/398 [==============================] - 1s 2ms/step - loss: 0.6484 - accuracy: 0.6253 - val_loss: 0.6743 - val_accuracy: 0.5679\n",
            "Epoch 95/100\n",
            "398/398 [==============================] - 1s 2ms/step - loss: 0.6482 - accuracy: 0.6260 - val_loss: 0.6809 - val_accuracy: 0.5309\n",
            "Epoch 96/100\n",
            "398/398 [==============================] - 1s 2ms/step - loss: 0.6473 - accuracy: 0.6260 - val_loss: 0.6791 - val_accuracy: 0.5802\n",
            "Epoch 97/100\n",
            "398/398 [==============================] - 1s 2ms/step - loss: 0.6450 - accuracy: 0.6310 - val_loss: 0.6776 - val_accuracy: 0.5432\n",
            "Epoch 98/100\n",
            "398/398 [==============================] - 1s 2ms/step - loss: 0.6475 - accuracy: 0.6242 - val_loss: 0.6790 - val_accuracy: 0.5432\n",
            "Epoch 99/100\n",
            "398/398 [==============================] - 1s 3ms/step - loss: 0.6482 - accuracy: 0.6242 - val_loss: 0.6817 - val_accuracy: 0.5309\n",
            "Epoch 100/100\n",
            "398/398 [==============================] - 1s 3ms/step - loss: 0.6442 - accuracy: 0.6299 - val_loss: 0.6806 - val_accuracy: 0.5741\n"
          ]
        }
      ],
      "source": [
        "\n",
        "# model Architecture\n",
        "model = tf.keras.models.Sequential()\n",
        "model.add(tf.keras.layers.Dense(units=5, activation='relu', input_shape = (12,)))\n",
        "model.add(tf.keras.layers.Dropout(0.2))\n",
        "model.add(tf.keras.layers.Dense(units=5, activation='relu'))\n",
        "model.add(tf.keras.layers.Dropout(0.2))\n",
        "model.add(tf.keras.layers.Dense(units=5, activation='relu'))\n",
        "model.add(tf.keras.layers.Dropout(0.2))\n",
        "model.add(tf.keras.layers.Dense(units=1, activation='sigmoid'))\n",
        "model.compile(optimizer='adam',loss='binary_crossentropy',metrics=['accuracy'])\n",
        "mdl_history = model.fit(X_sm, y_sm, epochs=100, validation_data=(X_valid_sm,y_valid_sm))\n"
      ]
    },
    {
      "cell_type": "code",
      "execution_count": 41,
      "metadata": {
        "id": "0kGX2fb8jomW"
      },
      "outputs": [],
      "source": [
        "# Notice that accuracy has gone down after over sampling and retraining the model. \n",
        "# That's because the oversampling using SMOTE technique puts more weight to the minority class, makes the model bias to it.\n",
        "# The model will now predict the minority class with higher accuracy but the overall accuracy will decrease.\n",
        "\n",
        "# But accuracy is not a good indicator of the model performance. So we will look into F1score, precision and recall to see how the model performs."
      ]
    },
    {
      "cell_type": "code",
      "execution_count": 42,
      "metadata": {
        "id": "qw41n_QZRMiS"
      },
      "outputs": [],
      "source": [
        "\n",
        "y_pred_probs = model.predict(X_test)\n",
        "predict = model.predict(X_test)\n"
      ]
    },
    {
      "cell_type": "code",
      "execution_count": 43,
      "metadata": {
        "colab": {
          "base_uri": "https://localhost:8080/"
        },
        "id": "2D1Tcty9Ym8f",
        "outputId": "c0118ffe-f590-440d-da04-a20218e247c6"
      },
      "outputs": [
        {
          "output_type": "execute_result",
          "data": {
            "text/plain": [
              "array([0, 1, 0, ..., 0, 0, 0])"
            ]
          },
          "metadata": {},
          "execution_count": 43
        }
      ],
      "source": [
        "y_test"
      ]
    },
    {
      "cell_type": "code",
      "execution_count": 44,
      "metadata": {
        "colab": {
          "base_uri": "https://localhost:8080/"
        },
        "id": "MsfeOkRJJvZT",
        "outputId": "de837137-a5ea-44bf-a28b-281c759de9a5"
      },
      "outputs": [
        {
          "output_type": "stream",
          "name": "stdout",
          "text": [
            "Model: \"sequential_1\"\n",
            "_________________________________________________________________\n",
            " Layer (type)                Output Shape              Param #   \n",
            "=================================================================\n",
            " dense_4 (Dense)             (None, 5)                 65        \n",
            "                                                                 \n",
            " dropout_2 (Dropout)         (None, 5)                 0         \n",
            "                                                                 \n",
            " dense_5 (Dense)             (None, 5)                 30        \n",
            "                                                                 \n",
            " dropout_3 (Dropout)         (None, 5)                 0         \n",
            "                                                                 \n",
            " dense_6 (Dense)             (None, 5)                 30        \n",
            "                                                                 \n",
            " dropout_4 (Dropout)         (None, 5)                 0         \n",
            "                                                                 \n",
            " dense_7 (Dense)             (None, 1)                 6         \n",
            "                                                                 \n",
            "=================================================================\n",
            "Total params: 131\n",
            "Trainable params: 131\n",
            "Non-trainable params: 0\n",
            "_________________________________________________________________\n"
          ]
        }
      ],
      "source": [
        "\n",
        "model.summary()"
      ]
    },
    {
      "cell_type": "code",
      "execution_count": 45,
      "metadata": {
        "colab": {
          "base_uri": "https://localhost:8080/",
          "height": 279
        },
        "id": "kNUkKClEb5D-",
        "outputId": "ed68dc0d-806d-439a-983c-d721b83444c8"
      },
      "outputs": [
        {
          "output_type": "display_data",
          "data": {
            "image/png": "[encoded data removed]",
            "text/plain": [
              "<Figure size 432x288 with 2 Axes>"
            ]
          },
          "metadata": {
            "needs_background": "light"
          }
        }
      ],
      "source": [
        "plot_history(mdl_history.history)"
      ]
    },
    {
      "cell_type": "code",
      "execution_count": 46,
      "metadata": {
        "id": "uYhaxtZ7k6OU"
      },
      "outputs": [],
      "source": [
        "from sklearn.metrics import roc_curve, auc, roc_auc_score\n",
        "fpr, tpr, threshold = roc_curve(y_test, predict)"
      ]
    },
    {
      "cell_type": "code",
      "execution_count": 47,
      "metadata": {
        "colab": {
          "base_uri": "https://localhost:8080/",
          "height": 406
        },
        "id": "Lf6_rvz1a0tk",
        "outputId": "a5398a7f-009e-4d3e-caee-62e6dfa8022b"
      },
      "outputs": [
        {
          "output_type": "execute_result",
          "data": {
            "text/plain": [
              "Text(0, 0.5, 'True Positive & False Positive Rates')"
            ]
          },
          "metadata": {},
          "execution_count": 47
        },
        {
          "output_type": "display_data",
          "data": {
            "image/png": "[encoded data removed]",
            "text/plain": [
              "<Figure size 1152x432 with 2 Axes>"
            ]
          },
          "metadata": {
            "needs_background": "light"
          }
        }
      ],
      "source": [
        "\n",
        "# Plotting the threshold for TP and FP rates \n",
        "fig, ax = plt.subplots(nrows=1, ncols=2, figsize=(16,6))\n",
        "\n",
        "ax[0].plot(threshold, tpr + (1 - fpr))\n",
        "ax[0].set_xlabel('Threshold')\n",
        "ax[0].set_ylabel('Sensitivity + Specificity')\n",
        "\n",
        "ax[1].plot(threshold, tpr, label=\"tp\")\n",
        "ax[1].plot(threshold, 1 - fpr, label=\"1 - fpr\")\n",
        "ax[1].legend()\n",
        "ax[1].set_xlabel('Threshold')\n",
        "ax[1].set_ylabel('True Positive & False Positive Rates')\n"
      ]
    },
    {
      "cell_type": "code",
      "execution_count": 48,
      "metadata": {
        "colab": {
          "base_uri": "https://localhost:8080/",
          "height": 265
        },
        "id": "TdP17kSia3bY",
        "outputId": "e0afe555-8ba9-48dc-e043-a02b351b6910"
      },
      "outputs": [
        {
          "output_type": "display_data",
          "data": {
            "image/png": "[encoded data removed]",
            "text/plain": [
              "<Figure size 432x288 with 1 Axes>"
            ]
          },
          "metadata": {
            "needs_background": "light"
          }
        }
      ],
      "source": [
        "auc = roc_auc_score(y_test, y_pred_probs)\n",
        "plt.plot(fpr,tpr,label=\"data 1, auc=\"+str(auc))\n",
        "plt.legend(loc=4)\n",
        "plt.show()"
      ]
    },
    {
      "cell_type": "code",
      "execution_count": 62,
      "metadata": {
        "colab": {
          "base_uri": "https://localhost:8080/"
        },
        "id": "tMNn1KahbZMs",
        "outputId": "a097dfc4-2c8c-406e-a248-f91ab14b3b75"
      },
      "outputs": [
        {
          "output_type": "stream",
          "name": "stdout",
          "text": [
            "optimal threshold: 0.44245848\n"
          ]
        }
      ],
      "source": [
        "\n",
        "# Identify the optimal threshold for the model\n",
        "# optimal threshold is when true positive rate is high and false positive rate is low.\n",
        "fn = tpr + (1 - fpr)\n",
        "index = np.argmax(fn)\n",
        "\n",
        "optimal_threshold = threshold[index]\n",
        "print('optimal threshold:', optimal_threshold)\n"
      ]
    },
    {
      "cell_type": "code",
      "execution_count": 63,
      "metadata": {
        "colab": {
          "base_uri": "https://localhost:8080/",
          "height": 527
        },
        "id": "cAVWjwwnbes-",
        "outputId": "190a3ee7-5a17-4698-f6fc-298d7bbd4242"
      },
      "outputs": [
        {
          "output_type": "stream",
          "name": "stdout",
          "text": [
            "[[0.47414854]\n",
            " [0.5011696 ]\n",
            " [0.5282633 ]\n",
            " ...\n",
            " [0.55745727]\n",
            " [0.39196375]\n",
            " [0.5521166 ]]\n"
          ]
        },
        {
          "output_type": "execute_result",
          "data": {
            "text/plain": [
              "(0.0, 2.0, 2.0, 0.0)"
            ]
          },
          "metadata": {},
          "execution_count": 63
        },
        {
          "output_type": "display_data",
          "data": {
            "image/png": "[encoded data removed]",
            "text/plain": [
              "<Figure size 1080x432 with 2 Axes>"
            ]
          },
          "metadata": {
            "needs_background": "light"
          }
        }
      ],
      "source": [
        "# Plotting the confusion matrix for the optimal threshold\n",
        "predict = model.predict(X_test)\n",
        "print(predict)\n",
        "predict = np.where(predict >= optimal_threshold, 1, 0)\n",
        "#predict = np.round(predict)\n",
        "\n",
        "\n",
        "fig, axes = plt.subplots(figsize=(15,6))\n",
        "\n",
        "cm = confusion_matrix(y_test, predict).T\n",
        "cm = cm.astype('float')/cm.sum(axis=0)\n",
        "\n",
        "ax = sns.heatmap(cm, annot=True, cmap='Blues');\n",
        "ax.set_xlabel('Actual Value')\n",
        "ax.set_ylabel('Predicted Value')\n",
        "ax.axis('equal')\n"
      ]
    },
    {
      "cell_type": "code",
      "execution_count": 51,
      "metadata": {
        "colab": {
          "base_uri": "https://localhost:8080/"
        },
        "id": "SjWBckJAbp0J",
        "outputId": "25cc1027-4f34-4e8a-a089-2493e7fcc577"
      },
      "outputs": [
        {
          "output_type": "stream",
          "name": "stdout",
          "text": [
            "              precision    recall  f1-score   support\n",
            "\n",
            "           0       0.91      0.51      0.65      1609\n",
            "           1       0.22      0.73      0.34       307\n",
            "\n",
            "    accuracy                           0.54      1916\n",
            "   macro avg       0.56      0.62      0.49      1916\n",
            "weighted avg       0.80      0.54      0.60      1916\n",
            "\n"
          ]
        }
      ],
      "source": [
        "print(classification_report(y_test,predict))"
      ]
    },
    {
      "cell_type": "code",
      "execution_count": 52,
      "metadata": {
        "colab": {
          "base_uri": "https://localhost:8080/"
        },
        "id": "2nus34k8b50C",
        "outputId": "3692f732-8cb8-4f1f-d9d7-9c8d1fe9550c"
      },
      "outputs": [
        {
          "output_type": "stream",
          "name": "stdout",
          "text": [
            "[[814 795]\n",
            " [ 83 224]]\n"
          ]
        }
      ],
      "source": [
        "# Notice that the precison and recall for minority class(1) has improved after over-sampling.\n",
        "# In the original unbalanced dataset, the precision and recall were very low around 0.01. \n",
        "# Now, after adding over sampling, the precision and recall for minority class has improved.\n",
        "\n",
        "print(confusion_matrix(y_test,predict))"
      ]
    }
  ],
  "metadata": {
    "colab": {
      "collapsed_sections": [],
      "name": "LoanDataAnalysisUsingKeras.ipynb",
      "provenance": []
    },
    "kernelspec": {
      "display_name": "Python 3",
      "name": "python3"
    },
    "language_info": {
      "name": "python"
    }
  },
  "nbformat": 4,
  "nbformat_minor": 0
}